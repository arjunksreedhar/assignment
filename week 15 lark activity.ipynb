{
 "cells": [
  {
   "cell_type": "code",
   "execution_count": 1,
   "id": "d599cf24",
   "metadata": {},
   "outputs": [],
   "source": [
    "#import neccesary libraries\n",
    "import pandas as pd\n",
    "import numpy as np\n",
    "import matplotlib.pyplot as plt\n",
    "import seaborn as sns\n",
    "from sklearn.metrics import classification_report,confusion_matrix,accuracy_score, precision_score,recall_score, f1_score\n",
    "data=pd.read_csv(\"titanic_dataset.csv\")\n"
   ]
  },
  {
   "cell_type": "code",
   "execution_count": 2,
   "id": "66c33592",
   "metadata": {},
   "outputs": [
    {
     "data": {
      "text/html": [
       "<div>\n",
       "<style scoped>\n",
       "    .dataframe tbody tr th:only-of-type {\n",
       "        vertical-align: middle;\n",
       "    }\n",
       "\n",
       "    .dataframe tbody tr th {\n",
       "        vertical-align: top;\n",
       "    }\n",
       "\n",
       "    .dataframe thead th {\n",
       "        text-align: right;\n",
       "    }\n",
       "</style>\n",
       "<table border=\"1\" class=\"dataframe\">\n",
       "  <thead>\n",
       "    <tr style=\"text-align: right;\">\n",
       "      <th></th>\n",
       "      <th>PassengerId</th>\n",
       "      <th>Survived</th>\n",
       "      <th>Pclass</th>\n",
       "      <th>Name</th>\n",
       "      <th>Sex</th>\n",
       "      <th>Age</th>\n",
       "      <th>SibSp</th>\n",
       "      <th>Parch</th>\n",
       "      <th>Ticket</th>\n",
       "      <th>Fare</th>\n",
       "      <th>Cabin</th>\n",
       "      <th>Embarked</th>\n",
       "    </tr>\n",
       "  </thead>\n",
       "  <tbody>\n",
       "    <tr>\n",
       "      <th>0</th>\n",
       "      <td>1</td>\n",
       "      <td>0</td>\n",
       "      <td>3</td>\n",
       "      <td>Braund, Mr. Owen Harris</td>\n",
       "      <td>male</td>\n",
       "      <td>22.0</td>\n",
       "      <td>1</td>\n",
       "      <td>0</td>\n",
       "      <td>A/5 21171</td>\n",
       "      <td>7.2500</td>\n",
       "      <td>NaN</td>\n",
       "      <td>S</td>\n",
       "    </tr>\n",
       "    <tr>\n",
       "      <th>1</th>\n",
       "      <td>2</td>\n",
       "      <td>1</td>\n",
       "      <td>1</td>\n",
       "      <td>Cumings, Mrs. John Bradley (Florence Briggs Th...</td>\n",
       "      <td>female</td>\n",
       "      <td>38.0</td>\n",
       "      <td>1</td>\n",
       "      <td>0</td>\n",
       "      <td>PC 17599</td>\n",
       "      <td>71.2833</td>\n",
       "      <td>C85</td>\n",
       "      <td>C</td>\n",
       "    </tr>\n",
       "    <tr>\n",
       "      <th>2</th>\n",
       "      <td>3</td>\n",
       "      <td>1</td>\n",
       "      <td>3</td>\n",
       "      <td>Heikkinen, Miss. Laina</td>\n",
       "      <td>female</td>\n",
       "      <td>26.0</td>\n",
       "      <td>0</td>\n",
       "      <td>0</td>\n",
       "      <td>STON/O2. 3101282</td>\n",
       "      <td>7.9250</td>\n",
       "      <td>NaN</td>\n",
       "      <td>S</td>\n",
       "    </tr>\n",
       "    <tr>\n",
       "      <th>3</th>\n",
       "      <td>4</td>\n",
       "      <td>1</td>\n",
       "      <td>1</td>\n",
       "      <td>Futrelle, Mrs. Jacques Heath (Lily May Peel)</td>\n",
       "      <td>female</td>\n",
       "      <td>35.0</td>\n",
       "      <td>1</td>\n",
       "      <td>0</td>\n",
       "      <td>113803</td>\n",
       "      <td>53.1000</td>\n",
       "      <td>C123</td>\n",
       "      <td>S</td>\n",
       "    </tr>\n",
       "    <tr>\n",
       "      <th>4</th>\n",
       "      <td>5</td>\n",
       "      <td>0</td>\n",
       "      <td>3</td>\n",
       "      <td>Allen, Mr. William Henry</td>\n",
       "      <td>male</td>\n",
       "      <td>35.0</td>\n",
       "      <td>0</td>\n",
       "      <td>0</td>\n",
       "      <td>373450</td>\n",
       "      <td>8.0500</td>\n",
       "      <td>NaN</td>\n",
       "      <td>S</td>\n",
       "    </tr>\n",
       "  </tbody>\n",
       "</table>\n",
       "</div>"
      ],
      "text/plain": [
       "   PassengerId  Survived  Pclass  \\\n",
       "0            1         0       3   \n",
       "1            2         1       1   \n",
       "2            3         1       3   \n",
       "3            4         1       1   \n",
       "4            5         0       3   \n",
       "\n",
       "                                                Name     Sex   Age  SibSp  \\\n",
       "0                            Braund, Mr. Owen Harris    male  22.0      1   \n",
       "1  Cumings, Mrs. John Bradley (Florence Briggs Th...  female  38.0      1   \n",
       "2                             Heikkinen, Miss. Laina  female  26.0      0   \n",
       "3       Futrelle, Mrs. Jacques Heath (Lily May Peel)  female  35.0      1   \n",
       "4                           Allen, Mr. William Henry    male  35.0      0   \n",
       "\n",
       "   Parch            Ticket     Fare Cabin Embarked  \n",
       "0      0         A/5 21171   7.2500   NaN        S  \n",
       "1      0          PC 17599  71.2833   C85        C  \n",
       "2      0  STON/O2. 3101282   7.9250   NaN        S  \n",
       "3      0            113803  53.1000  C123        S  \n",
       "4      0            373450   8.0500   NaN        S  "
      ]
     },
     "execution_count": 2,
     "metadata": {},
     "output_type": "execute_result"
    }
   ],
   "source": [
    "data.head()"
   ]
  },
  {
   "cell_type": "code",
   "execution_count": 3,
   "id": "f5519403",
   "metadata": {},
   "outputs": [
    {
     "name": "stdout",
     "output_type": "stream",
     "text": [
      "<class 'pandas.core.frame.DataFrame'>\n",
      "RangeIndex: 891 entries, 0 to 890\n",
      "Data columns (total 12 columns):\n",
      " #   Column       Non-Null Count  Dtype  \n",
      "---  ------       --------------  -----  \n",
      " 0   PassengerId  891 non-null    int64  \n",
      " 1   Survived     891 non-null    int64  \n",
      " 2   Pclass       891 non-null    int64  \n",
      " 3   Name         891 non-null    object \n",
      " 4   Sex          891 non-null    object \n",
      " 5   Age          714 non-null    float64\n",
      " 6   SibSp        891 non-null    int64  \n",
      " 7   Parch        891 non-null    int64  \n",
      " 8   Ticket       891 non-null    object \n",
      " 9   Fare         891 non-null    float64\n",
      " 10  Cabin        204 non-null    object \n",
      " 11  Embarked     889 non-null    object \n",
      "dtypes: float64(2), int64(5), object(5)\n",
      "memory usage: 83.7+ KB\n"
     ]
    }
   ],
   "source": [
    "data.info()"
   ]
  },
  {
   "cell_type": "code",
   "execution_count": 4,
   "id": "fadefac4",
   "metadata": {},
   "outputs": [
    {
     "data": {
      "text/plain": [
       "(891, 12)"
      ]
     },
     "execution_count": 4,
     "metadata": {},
     "output_type": "execute_result"
    }
   ],
   "source": [
    "data.shape"
   ]
  },
  {
   "cell_type": "markdown",
   "id": "f4ea19c0",
   "metadata": {},
   "source": [
    "**Fill in all the missing values present in all the columns in the dataset**\n"
   ]
  },
  {
   "cell_type": "code",
   "execution_count": 5,
   "id": "7c95d979",
   "metadata": {},
   "outputs": [
    {
     "data": {
      "text/plain": [
       "<AxesSubplot:>"
      ]
     },
     "execution_count": 5,
     "metadata": {},
     "output_type": "execute_result"
    },
    {
     "data": {
      "image/png": "[encoded data removed]",
      "text/plain": [
       "<Figure size 720x720 with 2 Axes>"
      ]
     },
     "metadata": {
      "needs_background": "light"
     },
     "output_type": "display_data"
    }
   ],
   "source": [
    "a=data.isnull()\n",
    "plt.figure(figsize=(10,10))\n",
    "sns.heatmap(a)"
   ]
  },
  {
   "cell_type": "code",
   "execution_count": 6,
   "id": "f0c28333",
   "metadata": {},
   "outputs": [],
   "source": [
    "data['Age']=data['Age'].fillna(data[\"Age\"].median())\n"
   ]
  },
  {
   "cell_type": "code",
   "execution_count": 7,
   "id": "b9d5fd83",
   "metadata": {},
   "outputs": [],
   "source": [
    "for i in ['Cabin','Embarked']:\n",
    "    data[i].fillna(data[i].value_counts().index[0],inplace=True)"
   ]
  },
  {
   "cell_type": "code",
   "execution_count": 8,
   "id": "22ce0b37",
   "metadata": {},
   "outputs": [
    {
     "data": {
      "text/plain": [
       "<AxesSubplot:>"
      ]
     },
     "execution_count": 8,
     "metadata": {},
     "output_type": "execute_result"
    },
    {
     "data": {
      "image/png": "[encoded data removed]",
      "text/plain": [
       "<Figure size 720x720 with 2 Axes>"
      ]
     },
     "metadata": {
      "needs_background": "light"
     },
     "output_type": "display_data"
    }
   ],
   "source": [
    "a=data.isnull()\n",
    "plt.figure(figsize=(10,10))\n",
    "sns.heatmap(a)"
   ]
  },
  {
   "cell_type": "markdown",
   "id": "98e94347",
   "metadata": {},
   "source": [
    "**Check and handle outliers**"
   ]
  },
  {
   "cell_type": "code",
   "execution_count": 9,
   "id": "8ea28835",
   "metadata": {},
   "outputs": [
    {
     "data": {
      "image/png": "[encoded data removed]",
      "text/plain": [
       "<Figure size 756x396 with 1 Axes>"
      ]
     },
     "metadata": {
      "needs_background": "light"
     },
     "output_type": "display_data"
    }
   ],
   "source": [
    "plt.rcParams[\"figure.figsize\"] = [10.50, 5.50]\n",
    "plt.rcParams[\"figure.autolayout\"] = True\n",
    "dat = pd.DataFrame({\"Boxplot of Age\": data['Age'], \"Boxplot of Fare\": data['Fare'],\"Boxplot of Parch\":data['Parch'],\"Boxplot of SibSp\":data['SibSp']})\n",
    "dat[['Boxplot of Age', 'Boxplot of Fare','Boxplot of Parch','Boxplot of SibSp']].plot(kind='box', title='boxplot')\n",
    "plt.show()"
   ]
  },
  {
   "cell_type": "code",
   "execution_count": 10,
   "id": "12d117cd",
   "metadata": {},
   "outputs": [],
   "source": [
    "for x in range(1,7):\n",
    "    for i in ['Age','SibSp','Fare','Parch']:\n",
    "        Q1=np.percentile(data[i],25, interpolation='midpoint')\n",
    "        Q2=np.percentile(data[i],50, interpolation='midpoint')\n",
    "        Q3=np.percentile(data[i],75, interpolation='midpoint')\n",
    "        iqr=Q3-Q1\n",
    "        low_lim=Q1-1.5*iqr\n",
    "        up_lim=Q3+1.5*iqr\n",
    "        ind1=data[i]>up_lim\n",
    "        ind2=data[i]<low_lim\n",
    "        q=data.loc[ind1].index\n",
    "        r=data.loc[ind2].index\n",
    "        data.drop(q, inplace=True)\n",
    "        data.drop(r,inplace=True)"
   ]
  },
  {
   "cell_type": "code",
   "execution_count": 11,
   "id": "51193142",
   "metadata": {},
   "outputs": [
    {
     "data": {
      "image/png": "[encoded data removed]",
      "text/plain": [
       "<Figure size 864x432 with 1 Axes>"
      ]
     },
     "metadata": {
      "needs_background": "light"
     },
     "output_type": "display_data"
    }
   ],
   "source": [
    "plt.rcParams[\"figure.figsize\"] = [12, 6]\n",
    "plt.rcParams[\"figure.autolayout\"] = True\n",
    "dat = pd.DataFrame({\"Boxplot of Age\": data['Age'], \"Boxplot of Fare\": data['Fare'],\"Boxplot of Parch\":data['Parch'],\"Boxplot of SibSp\":data['SibSp']})\n",
    "dat[['Boxplot of Age', 'Boxplot of Fare','Boxplot of Parch','Boxplot of SibSp']].plot(kind='box', title='boxplot')\n",
    "plt.show()"
   ]
  },
  {
   "cell_type": "code",
   "execution_count": 12,
   "id": "7377dbcc",
   "metadata": {},
   "outputs": [
    {
     "data": {
      "text/plain": [
       "<AxesSubplot:>"
      ]
     },
     "execution_count": 12,
     "metadata": {},
     "output_type": "execute_result"
    },
    {
     "data": {
      "image/png": "[encoded data removed]",
      "text/plain": [
       "<Figure size 720x720 with 2 Axes>"
      ]
     },
     "metadata": {
      "needs_background": "light"
     },
     "output_type": "display_data"
    }
   ],
   "source": [
    "# Checking the correlation\n",
    "\n",
    "plt.figure(figsize=(10,10))\n",
    "sns.heatmap(data.corr(),annot=True)"
   ]
  },
  {
   "cell_type": "code",
   "execution_count": 13,
   "id": "a6743a9b",
   "metadata": {},
   "outputs": [],
   "source": [
    "# Label Encoding \n",
    "\n",
    "from sklearn.preprocessing import LabelEncoder\n",
    "\n",
    "le = LabelEncoder()\n",
    "\n",
    "a=['Sex','Embarked']\n",
    "for i in np.arange(len(a)):\n",
    "    data[a[i]]= le.fit_transform(data[a[i]])\n",
    "    "
   ]
  },
  {
   "cell_type": "code",
   "execution_count": 14,
   "id": "278ac9fb",
   "metadata": {},
   "outputs": [
    {
     "data": {
      "text/html": [
       "<div>\n",
       "<style scoped>\n",
       "    .dataframe tbody tr th:only-of-type {\n",
       "        vertical-align: middle;\n",
       "    }\n",
       "\n",
       "    .dataframe tbody tr th {\n",
       "        vertical-align: top;\n",
       "    }\n",
       "\n",
       "    .dataframe thead th {\n",
       "        text-align: right;\n",
       "    }\n",
       "</style>\n",
       "<table border=\"1\" class=\"dataframe\">\n",
       "  <thead>\n",
       "    <tr style=\"text-align: right;\">\n",
       "      <th></th>\n",
       "      <th>PassengerId</th>\n",
       "      <th>Survived</th>\n",
       "      <th>Pclass</th>\n",
       "      <th>Name</th>\n",
       "      <th>Sex</th>\n",
       "      <th>Age</th>\n",
       "      <th>SibSp</th>\n",
       "      <th>Parch</th>\n",
       "      <th>Ticket</th>\n",
       "      <th>Fare</th>\n",
       "      <th>Cabin</th>\n",
       "      <th>Embarked</th>\n",
       "    </tr>\n",
       "  </thead>\n",
       "  <tbody>\n",
       "    <tr>\n",
       "      <th>2</th>\n",
       "      <td>3</td>\n",
       "      <td>1</td>\n",
       "      <td>3</td>\n",
       "      <td>Heikkinen, Miss. Laina</td>\n",
       "      <td>0</td>\n",
       "      <td>26.0</td>\n",
       "      <td>0</td>\n",
       "      <td>0</td>\n",
       "      <td>STON/O2. 3101282</td>\n",
       "      <td>7.9250</td>\n",
       "      <td>B96 B98</td>\n",
       "      <td>2</td>\n",
       "    </tr>\n",
       "    <tr>\n",
       "      <th>4</th>\n",
       "      <td>5</td>\n",
       "      <td>0</td>\n",
       "      <td>3</td>\n",
       "      <td>Allen, Mr. William Henry</td>\n",
       "      <td>1</td>\n",
       "      <td>35.0</td>\n",
       "      <td>0</td>\n",
       "      <td>0</td>\n",
       "      <td>373450</td>\n",
       "      <td>8.0500</td>\n",
       "      <td>B96 B98</td>\n",
       "      <td>2</td>\n",
       "    </tr>\n",
       "    <tr>\n",
       "      <th>12</th>\n",
       "      <td>13</td>\n",
       "      <td>0</td>\n",
       "      <td>3</td>\n",
       "      <td>Saundercock, Mr. William Henry</td>\n",
       "      <td>1</td>\n",
       "      <td>20.0</td>\n",
       "      <td>0</td>\n",
       "      <td>0</td>\n",
       "      <td>A/5. 2151</td>\n",
       "      <td>8.0500</td>\n",
       "      <td>B96 B98</td>\n",
       "      <td>2</td>\n",
       "    </tr>\n",
       "    <tr>\n",
       "      <th>14</th>\n",
       "      <td>15</td>\n",
       "      <td>0</td>\n",
       "      <td>3</td>\n",
       "      <td>Vestrom, Miss. Hulda Amanda Adolfina</td>\n",
       "      <td>0</td>\n",
       "      <td>14.0</td>\n",
       "      <td>0</td>\n",
       "      <td>0</td>\n",
       "      <td>350406</td>\n",
       "      <td>7.8542</td>\n",
       "      <td>B96 B98</td>\n",
       "      <td>2</td>\n",
       "    </tr>\n",
       "    <tr>\n",
       "      <th>22</th>\n",
       "      <td>23</td>\n",
       "      <td>1</td>\n",
       "      <td>3</td>\n",
       "      <td>McGowan, Miss. Anna \"Annie\"</td>\n",
       "      <td>0</td>\n",
       "      <td>15.0</td>\n",
       "      <td>0</td>\n",
       "      <td>0</td>\n",
       "      <td>330923</td>\n",
       "      <td>8.0292</td>\n",
       "      <td>B96 B98</td>\n",
       "      <td>1</td>\n",
       "    </tr>\n",
       "    <tr>\n",
       "      <th>...</th>\n",
       "      <td>...</td>\n",
       "      <td>...</td>\n",
       "      <td>...</td>\n",
       "      <td>...</td>\n",
       "      <td>...</td>\n",
       "      <td>...</td>\n",
       "      <td>...</td>\n",
       "      <td>...</td>\n",
       "      <td>...</td>\n",
       "      <td>...</td>\n",
       "      <td>...</td>\n",
       "      <td>...</td>\n",
       "    </tr>\n",
       "    <tr>\n",
       "      <th>870</th>\n",
       "      <td>871</td>\n",
       "      <td>0</td>\n",
       "      <td>3</td>\n",
       "      <td>Balkic, Mr. Cerin</td>\n",
       "      <td>1</td>\n",
       "      <td>26.0</td>\n",
       "      <td>0</td>\n",
       "      <td>0</td>\n",
       "      <td>349248</td>\n",
       "      <td>7.8958</td>\n",
       "      <td>B96 B98</td>\n",
       "      <td>2</td>\n",
       "    </tr>\n",
       "    <tr>\n",
       "      <th>877</th>\n",
       "      <td>878</td>\n",
       "      <td>0</td>\n",
       "      <td>3</td>\n",
       "      <td>Petroff, Mr. Nedelio</td>\n",
       "      <td>1</td>\n",
       "      <td>19.0</td>\n",
       "      <td>0</td>\n",
       "      <td>0</td>\n",
       "      <td>349212</td>\n",
       "      <td>7.8958</td>\n",
       "      <td>B96 B98</td>\n",
       "      <td>2</td>\n",
       "    </tr>\n",
       "    <tr>\n",
       "      <th>878</th>\n",
       "      <td>879</td>\n",
       "      <td>0</td>\n",
       "      <td>3</td>\n",
       "      <td>Laleff, Mr. Kristo</td>\n",
       "      <td>1</td>\n",
       "      <td>28.0</td>\n",
       "      <td>0</td>\n",
       "      <td>0</td>\n",
       "      <td>349217</td>\n",
       "      <td>7.8958</td>\n",
       "      <td>B96 B98</td>\n",
       "      <td>2</td>\n",
       "    </tr>\n",
       "    <tr>\n",
       "      <th>881</th>\n",
       "      <td>882</td>\n",
       "      <td>0</td>\n",
       "      <td>3</td>\n",
       "      <td>Markun, Mr. Johann</td>\n",
       "      <td>1</td>\n",
       "      <td>33.0</td>\n",
       "      <td>0</td>\n",
       "      <td>0</td>\n",
       "      <td>349257</td>\n",
       "      <td>7.8958</td>\n",
       "      <td>B96 B98</td>\n",
       "      <td>2</td>\n",
       "    </tr>\n",
       "    <tr>\n",
       "      <th>890</th>\n",
       "      <td>891</td>\n",
       "      <td>0</td>\n",
       "      <td>3</td>\n",
       "      <td>Dooley, Mr. Patrick</td>\n",
       "      <td>1</td>\n",
       "      <td>32.0</td>\n",
       "      <td>0</td>\n",
       "      <td>0</td>\n",
       "      <td>370376</td>\n",
       "      <td>7.7500</td>\n",
       "      <td>B96 B98</td>\n",
       "      <td>1</td>\n",
       "    </tr>\n",
       "  </tbody>\n",
       "</table>\n",
       "<p>171 rows × 12 columns</p>\n",
       "</div>"
      ],
      "text/plain": [
       "     PassengerId  Survived  Pclass                                  Name  Sex  \\\n",
       "2              3         1       3                Heikkinen, Miss. Laina    0   \n",
       "4              5         0       3              Allen, Mr. William Henry    1   \n",
       "12            13         0       3        Saundercock, Mr. William Henry    1   \n",
       "14            15         0       3  Vestrom, Miss. Hulda Amanda Adolfina    0   \n",
       "22            23         1       3           McGowan, Miss. Anna \"Annie\"    0   \n",
       "..           ...       ...     ...                                   ...  ...   \n",
       "870          871         0       3                     Balkic, Mr. Cerin    1   \n",
       "877          878         0       3                  Petroff, Mr. Nedelio    1   \n",
       "878          879         0       3                    Laleff, Mr. Kristo    1   \n",
       "881          882         0       3                    Markun, Mr. Johann    1   \n",
       "890          891         0       3                   Dooley, Mr. Patrick    1   \n",
       "\n",
       "      Age  SibSp  Parch            Ticket    Fare    Cabin  Embarked  \n",
       "2    26.0      0      0  STON/O2. 3101282  7.9250  B96 B98         2  \n",
       "4    35.0      0      0            373450  8.0500  B96 B98         2  \n",
       "12   20.0      0      0         A/5. 2151  8.0500  B96 B98         2  \n",
       "14   14.0      0      0            350406  7.8542  B96 B98         2  \n",
       "22   15.0      0      0            330923  8.0292  B96 B98         1  \n",
       "..    ...    ...    ...               ...     ...      ...       ...  \n",
       "870  26.0      0      0            349248  7.8958  B96 B98         2  \n",
       "877  19.0      0      0            349212  7.8958  B96 B98         2  \n",
       "878  28.0      0      0            349217  7.8958  B96 B98         2  \n",
       "881  33.0      0      0            349257  7.8958  B96 B98         2  \n",
       "890  32.0      0      0            370376  7.7500  B96 B98         1  \n",
       "\n",
       "[171 rows x 12 columns]"
      ]
     },
     "execution_count": 14,
     "metadata": {},
     "output_type": "execute_result"
    }
   ],
   "source": [
    "data"
   ]
  },
  {
   "cell_type": "code",
   "execution_count": 15,
   "id": "ea1e3db6",
   "metadata": {},
   "outputs": [],
   "source": [
    "#feature reduction\n",
    "data.drop(['PassengerId','Name','Ticket','Cabin'],axis=1,inplace=True)\n"
   ]
  },
  {
   "cell_type": "code",
   "execution_count": 16,
   "id": "3c294b5c",
   "metadata": {
    "scrolled": true
   },
   "outputs": [],
   "source": [
    "from sklearn.preprocessing import MinMaxScaler\n",
    "  \n",
    "scaler = MinMaxScaler()\n",
    "data[[\"ScaledAge\",\"ScaledFare\"]] = scaler.fit_transform(data[[\"Age\", \"Fare\"]])"
   ]
  },
  {
   "cell_type": "code",
   "execution_count": 17,
   "id": "5a0b8a92",
   "metadata": {},
   "outputs": [
    {
     "data": {
      "text/html": [
       "<div>\n",
       "<style scoped>\n",
       "    .dataframe tbody tr th:only-of-type {\n",
       "        vertical-align: middle;\n",
       "    }\n",
       "\n",
       "    .dataframe tbody tr th {\n",
       "        vertical-align: top;\n",
       "    }\n",
       "\n",
       "    .dataframe thead th {\n",
       "        text-align: right;\n",
       "    }\n",
       "</style>\n",
       "<table border=\"1\" class=\"dataframe\">\n",
       "  <thead>\n",
       "    <tr style=\"text-align: right;\">\n",
       "      <th></th>\n",
       "      <th>Survived</th>\n",
       "      <th>Pclass</th>\n",
       "      <th>Sex</th>\n",
       "      <th>Age</th>\n",
       "      <th>SibSp</th>\n",
       "      <th>Parch</th>\n",
       "      <th>Fare</th>\n",
       "      <th>Embarked</th>\n",
       "      <th>ScaledAge</th>\n",
       "      <th>ScaledFare</th>\n",
       "    </tr>\n",
       "  </thead>\n",
       "  <tbody>\n",
       "    <tr>\n",
       "      <th>2</th>\n",
       "      <td>1</td>\n",
       "      <td>3</td>\n",
       "      <td>0</td>\n",
       "      <td>26.0</td>\n",
       "      <td>0</td>\n",
       "      <td>0</td>\n",
       "      <td>7.9250</td>\n",
       "      <td>2</td>\n",
       "      <td>0.545455</td>\n",
       "      <td>0.647849</td>\n",
       "    </tr>\n",
       "    <tr>\n",
       "      <th>4</th>\n",
       "      <td>0</td>\n",
       "      <td>3</td>\n",
       "      <td>1</td>\n",
       "      <td>35.0</td>\n",
       "      <td>0</td>\n",
       "      <td>0</td>\n",
       "      <td>8.0500</td>\n",
       "      <td>2</td>\n",
       "      <td>0.954545</td>\n",
       "      <td>0.836528</td>\n",
       "    </tr>\n",
       "    <tr>\n",
       "      <th>12</th>\n",
       "      <td>0</td>\n",
       "      <td>3</td>\n",
       "      <td>1</td>\n",
       "      <td>20.0</td>\n",
       "      <td>0</td>\n",
       "      <td>0</td>\n",
       "      <td>8.0500</td>\n",
       "      <td>2</td>\n",
       "      <td>0.272727</td>\n",
       "      <td>0.836528</td>\n",
       "    </tr>\n",
       "    <tr>\n",
       "      <th>14</th>\n",
       "      <td>0</td>\n",
       "      <td>3</td>\n",
       "      <td>0</td>\n",
       "      <td>14.0</td>\n",
       "      <td>0</td>\n",
       "      <td>0</td>\n",
       "      <td>7.8542</td>\n",
       "      <td>2</td>\n",
       "      <td>0.000000</td>\n",
       "      <td>0.540981</td>\n",
       "    </tr>\n",
       "    <tr>\n",
       "      <th>22</th>\n",
       "      <td>1</td>\n",
       "      <td>3</td>\n",
       "      <td>0</td>\n",
       "      <td>15.0</td>\n",
       "      <td>0</td>\n",
       "      <td>0</td>\n",
       "      <td>8.0292</td>\n",
       "      <td>1</td>\n",
       "      <td>0.045455</td>\n",
       "      <td>0.805132</td>\n",
       "    </tr>\n",
       "    <tr>\n",
       "      <th>...</th>\n",
       "      <td>...</td>\n",
       "      <td>...</td>\n",
       "      <td>...</td>\n",
       "      <td>...</td>\n",
       "      <td>...</td>\n",
       "      <td>...</td>\n",
       "      <td>...</td>\n",
       "      <td>...</td>\n",
       "      <td>...</td>\n",
       "      <td>...</td>\n",
       "    </tr>\n",
       "    <tr>\n",
       "      <th>870</th>\n",
       "      <td>0</td>\n",
       "      <td>3</td>\n",
       "      <td>1</td>\n",
       "      <td>26.0</td>\n",
       "      <td>0</td>\n",
       "      <td>0</td>\n",
       "      <td>7.8958</td>\n",
       "      <td>2</td>\n",
       "      <td>0.545455</td>\n",
       "      <td>0.603774</td>\n",
       "    </tr>\n",
       "    <tr>\n",
       "      <th>877</th>\n",
       "      <td>0</td>\n",
       "      <td>3</td>\n",
       "      <td>1</td>\n",
       "      <td>19.0</td>\n",
       "      <td>0</td>\n",
       "      <td>0</td>\n",
       "      <td>7.8958</td>\n",
       "      <td>2</td>\n",
       "      <td>0.227273</td>\n",
       "      <td>0.603774</td>\n",
       "    </tr>\n",
       "    <tr>\n",
       "      <th>878</th>\n",
       "      <td>0</td>\n",
       "      <td>3</td>\n",
       "      <td>1</td>\n",
       "      <td>28.0</td>\n",
       "      <td>0</td>\n",
       "      <td>0</td>\n",
       "      <td>7.8958</td>\n",
       "      <td>2</td>\n",
       "      <td>0.636364</td>\n",
       "      <td>0.603774</td>\n",
       "    </tr>\n",
       "    <tr>\n",
       "      <th>881</th>\n",
       "      <td>0</td>\n",
       "      <td>3</td>\n",
       "      <td>1</td>\n",
       "      <td>33.0</td>\n",
       "      <td>0</td>\n",
       "      <td>0</td>\n",
       "      <td>7.8958</td>\n",
       "      <td>2</td>\n",
       "      <td>0.863636</td>\n",
       "      <td>0.603774</td>\n",
       "    </tr>\n",
       "    <tr>\n",
       "      <th>890</th>\n",
       "      <td>0</td>\n",
       "      <td>3</td>\n",
       "      <td>1</td>\n",
       "      <td>32.0</td>\n",
       "      <td>0</td>\n",
       "      <td>0</td>\n",
       "      <td>7.7500</td>\n",
       "      <td>1</td>\n",
       "      <td>0.818182</td>\n",
       "      <td>0.383698</td>\n",
       "    </tr>\n",
       "  </tbody>\n",
       "</table>\n",
       "<p>171 rows × 10 columns</p>\n",
       "</div>"
      ],
      "text/plain": [
       "     Survived  Pclass  Sex   Age  SibSp  Parch    Fare  Embarked  ScaledAge  \\\n",
       "2           1       3    0  26.0      0      0  7.9250         2   0.545455   \n",
       "4           0       3    1  35.0      0      0  8.0500         2   0.954545   \n",
       "12          0       3    1  20.0      0      0  8.0500         2   0.272727   \n",
       "14          0       3    0  14.0      0      0  7.8542         2   0.000000   \n",
       "22          1       3    0  15.0      0      0  8.0292         1   0.045455   \n",
       "..        ...     ...  ...   ...    ...    ...     ...       ...        ...   \n",
       "870         0       3    1  26.0      0      0  7.8958         2   0.545455   \n",
       "877         0       3    1  19.0      0      0  7.8958         2   0.227273   \n",
       "878         0       3    1  28.0      0      0  7.8958         2   0.636364   \n",
       "881         0       3    1  33.0      0      0  7.8958         2   0.863636   \n",
       "890         0       3    1  32.0      0      0  7.7500         1   0.818182   \n",
       "\n",
       "     ScaledFare  \n",
       "2      0.647849  \n",
       "4      0.836528  \n",
       "12     0.836528  \n",
       "14     0.540981  \n",
       "22     0.805132  \n",
       "..          ...  \n",
       "870    0.603774  \n",
       "877    0.603774  \n",
       "878    0.603774  \n",
       "881    0.603774  \n",
       "890    0.383698  \n",
       "\n",
       "[171 rows x 10 columns]"
      ]
     },
     "execution_count": 17,
     "metadata": {},
     "output_type": "execute_result"
    }
   ],
   "source": [
    "data"
   ]
  },
  {
   "cell_type": "code",
   "execution_count": 18,
   "id": "bdf9a831",
   "metadata": {},
   "outputs": [],
   "source": [
    "# Splitting the Data\n",
    "\n",
    "from sklearn.model_selection import train_test_split\n",
    "y= data['Survived']\n",
    "x= data.drop(['Survived', 'Age','Fare'], axis=1)\n",
    "x_train, x_test, y_train, y_test= train_test_split(x,y, random_state= 30,test_size= 0.2)\n"
   ]
  },
  {
   "cell_type": "markdown",
   "id": "d2995e22",
   "metadata": {},
   "source": [
    "**ML algorithms**"
   ]
  },
  {
   "cell_type": "code",
   "execution_count": 19,
   "id": "240d0460",
   "metadata": {},
   "outputs": [
    {
     "name": "stdout",
     "output_type": "stream",
     "text": [
      "Training Accuracy is :  0.8308823529411765\n",
      "Accuracy Score is: 0.8571428571428571\n",
      "Recall Score is: 0.8333333333333334\n",
      "Precision Score: 0.5555555555555556\n",
      "F1 score is: 0.6666666666666667\n",
      "\n",
      " The confusion matrix is : \n",
      " [[25  4]\n",
      " [ 1  5]]\n"
     ]
    }
   ],
   "source": [
    " # Applying Bernoulli Naive Bayes Classifier\n",
    "\n",
    "from sklearn.naive_bayes import BernoulliNB\n",
    "classifier= BernoulliNB()\n",
    "classifier.fit(x_train, y_train)\n",
    "y_pred1= classifier.predict(x_test)\n",
    "y_train_pred1= classifier.predict(x_train)\n",
    "\n",
    "print(\"Training Accuracy is : \", accuracy_score(y_train, y_train_pred1))\n",
    "print('Accuracy Score is:', accuracy_score(y_test, y_pred1))\n",
    "print('Recall Score is:', recall_score(y_test, y_pred1))\n",
    "print('Precision Score:', precision_score(y_test, y_pred1))\n",
    "print('F1 score is:', f1_score(y_test, y_pred1))\n",
    "print(\"\\n The confusion matrix is : \\n\", confusion_matrix(y_test, y_pred1))"
   ]
  },
  {
   "cell_type": "code",
   "execution_count": 20,
   "id": "9f293dc4",
   "metadata": {},
   "outputs": [
    {
     "name": "stdout",
     "output_type": "stream",
     "text": [
      "Training Accuracy is :  0.8235294117647058\n",
      "Accuracy Score is: 0.8571428571428571\n",
      "Recall Score is: 0.8333333333333334\n",
      "Precision Score: 0.5555555555555556\n",
      "F1 score is: 0.6666666666666667\n",
      "\n",
      " The confusion matrix is : \n",
      " [[25  4]\n",
      " [ 1  5]]\n"
     ]
    }
   ],
   "source": [
    "# Applying Gaussian Naive Bayes Classifier\n",
    "\n",
    "from sklearn.naive_bayes import GaussianNB\n",
    "Classifier= GaussianNB()\n",
    "Classifier.fit(x_train, y_train)\n",
    "y_pred= Classifier.predict(x_test)\n",
    "y_train_pred= Classifier.predict(x_train)\n",
    "\n",
    "print(\"Training Accuracy is : \", accuracy_score(y_train, y_train_pred))\n",
    "print('Accuracy Score is:', accuracy_score(y_test, y_pred))\n",
    "print('Recall Score is:', recall_score(y_test, y_pred))\n",
    "print('Precision Score:', precision_score(y_test, y_pred))\n",
    "print('F1 score is:', f1_score(y_test, y_pred))\n",
    "print(\"\\n The confusion matrix is : \\n\", confusion_matrix(y_test, y_pred))"
   ]
  },
  {
   "cell_type": "code",
   "execution_count": 21,
   "id": "5148818e",
   "metadata": {},
   "outputs": [
    {
     "name": "stdout",
     "output_type": "stream",
     "text": [
      "Training Accuracy is :  0.8308823529411765\n",
      "Accuracy Score is: 0.8571428571428571\n",
      "Recall Score is: 0.8333333333333334\n",
      "Precision Score: 0.5555555555555556\n",
      "F1 score is: 0.6666666666666667\n",
      "\n",
      " The confusion matrix is : \n",
      " [[25  4]\n",
      " [ 1  5]]\n"
     ]
    }
   ],
   "source": [
    "# Applying SVM Model\n",
    "from sklearn import svm\n",
    "from sklearn.svm import SVC\n",
    "\n",
    "svm_linear = SVC(kernel= \"linear\")\n",
    "svm_linear.fit(x_train,y_train)\n",
    "y_pred4 = svm_linear.predict(x_test)\n",
    "\n",
    "y_train_pred4 = svm_linear.predict(x_train)\n",
    "\n",
    "print(\"Training Accuracy is : \", accuracy_score(y_train, y_train_pred4))\n",
    "print('Accuracy Score is:', accuracy_score(y_test, y_pred4))\n",
    "print('Recall Score is:', recall_score(y_test, y_pred4))\n",
    "print('Precision Score:', precision_score(y_test, y_pred4))\n",
    "print('F1 score is:', f1_score(y_test, y_pred4))\n",
    "print(\"\\n The confusion matrix is : \\n\", confusion_matrix(y_test, y_pred4))"
   ]
  },
  {
   "cell_type": "code",
   "execution_count": 22,
   "id": "a46b9ae1",
   "metadata": {},
   "outputs": [
    {
     "name": "stdout",
     "output_type": "stream",
     "text": [
      "Training Accuracy is :  0.8308823529411765\n",
      "Accuracy Score is: 0.8571428571428571\n",
      "Recall Score is: 0.8333333333333334\n",
      "Precision Score: 0.5555555555555556\n",
      "F1 score is: 0.6666666666666667\n",
      "\n",
      " The confusion matrix is : \n",
      " [[25  4]\n",
      " [ 1  5]]\n"
     ]
    }
   ],
   "source": [
    "# Applying Logistic Regression\n",
    "\n",
    "from sklearn.linear_model import LogisticRegression\n",
    "from sklearn.metrics import accuracy_score,f1_score,confusion_matrix,precision_score\n",
    "log_model= LogisticRegression()\n",
    "log_model.fit(x_train,y_train)\n",
    "y_pred6 = log_model.predict(x_test)\n",
    "\n",
    "y_train_pred6= log_model.predict(x_train)\n",
    "\n",
    "print(\"Training Accuracy is : \", accuracy_score(y_train, y_train_pred6))\n",
    "print('Accuracy Score is:', accuracy_score(y_test, y_pred6))\n",
    "print('Recall Score is:', recall_score(y_test, y_pred6))\n",
    "print('Precision Score:', precision_score(y_test, y_pred6))\n",
    "print('F1 score is:', f1_score(y_test, y_pred6))\n",
    "print(\"\\n The confusion matrix is : \\n\", confusion_matrix(y_test, y_pred6))"
   ]
  },
  {
   "cell_type": "code",
   "execution_count": 23,
   "id": "bde1f9c6",
   "metadata": {},
   "outputs": [
    {
     "name": "stdout",
     "output_type": "stream",
     "text": [
      "Training Accuracy is :  0.8382352941176471\n",
      "Accuracy Score is: 0.8857142857142857\n",
      "Recall Score is: 0.6666666666666666\n",
      "Precision Score: 0.6666666666666666\n",
      "F1 score is: 0.6666666666666666\n",
      "\n",
      " The confusion matrix is : \n",
      " [[27  2]\n",
      " [ 2  4]]\n"
     ]
    }
   ],
   "source": [
    "# Applying KNN model\n",
    "\n",
    "from sklearn.neighbors import KNeighborsClassifier\n",
    "classifer = KNeighborsClassifier(n_neighbors=4,metric = \"minkowski\") \n",
    "classifer.fit(x_train,y_train)\n",
    "y_pred5 = classifer.predict(x_test)\n",
    "\n",
    "y_train_pred5 = classifer.predict(x_train)\n",
    "\n",
    "print(\"Training Accuracy is : \", accuracy_score(y_train, y_train_pred5))\n",
    "print('Accuracy Score is:', accuracy_score(y_test, y_pred5))\n",
    "print('Recall Score is:', recall_score(y_test, y_pred5))\n",
    "print('Precision Score:', precision_score(y_test, y_pred5))\n",
    "print('F1 score is:', f1_score(y_test, y_pred5))\n",
    "print(\"\\n The confusion matrix is : \\n\", confusion_matrix(y_test, y_pred5))"
   ]
  },
  {
   "cell_type": "code",
   "execution_count": 24,
   "id": "12f2ac14",
   "metadata": {},
   "outputs": [
    {
     "name": "stdout",
     "output_type": "stream",
     "text": [
      "Training Accuracy is :  0.9558823529411765\n",
      "Accuracy Score is: 0.8857142857142857\n",
      "Recall Score is: 0.8333333333333334\n",
      "Precision Score: 0.625\n",
      "F1 score is: 0.7142857142857143\n",
      "\n",
      " The confusion matrix is : \n",
      " [[26  3]\n",
      " [ 1  5]]\n"
     ]
    }
   ],
   "source": [
    "# Applying Random Forest Classifier\n",
    "\n",
    "from sklearn.ensemble import RandomForestClassifier\n",
    "rf_model = RandomForestClassifier()\n",
    "rf_model.fit(x_train,y_train)\n",
    "y_pred3= rf_model.predict(x_test)\n",
    "\n",
    "y_train_pred3= rf_model.predict(x_train)\n",
    "\n",
    "print(\"Training Accuracy is : \", accuracy_score(y_train, y_train_pred3))\n",
    "print('Accuracy Score is:', accuracy_score(y_test, y_pred3))\n",
    "print('Recall Score is:', recall_score(y_test, y_pred3))\n",
    "print('Precision Score:', precision_score(y_test, y_pred3))\n",
    "print('F1 score is:', f1_score(y_test, y_pred3))\n",
    "print(\"\\n The confusion matrix is : \\n\", confusion_matrix(y_test, y_pred3))"
   ]
  },
  {
   "cell_type": "code",
   "execution_count": 25,
   "id": "ab1663d2",
   "metadata": {},
   "outputs": [
    {
     "name": "stdout",
     "output_type": "stream",
     "text": [
      "Training Accuracy is :  0.9558823529411765\n",
      "Accuracy Score is: 0.8857142857142857\n",
      "Recall Score is: 0.8333333333333334\n",
      "Precision Score: 0.625\n",
      "F1 score is: 0.7142857142857143\n",
      "\n",
      " The confusion matrix is : \n",
      " [[26  3]\n",
      " [ 1  5]]\n"
     ]
    }
   ],
   "source": [
    "# Applying Decision Tree Classifier\n",
    "\n",
    "from sklearn.tree import DecisionTreeClassifier\n",
    "dt= DecisionTreeClassifier()\n",
    "dt.fit(x_train,y_train)\n",
    "y_pred2= dt.predict(x_test)\n",
    "\n",
    "y_train_pred2 = dt.predict(x_train)\n",
    "\n",
    "print(\"Training Accuracy is : \", accuracy_score(y_train, y_train_pred2))\n",
    "print('Accuracy Score is:', accuracy_score(y_test, y_pred2))\n",
    "print('Recall Score is:', recall_score(y_test, y_pred2))\n",
    "print('Precision Score:', precision_score(y_test, y_pred2))\n",
    "print('F1 score is:', f1_score(y_test, y_pred2))\n",
    "print(\"\\n The confusion matrix is : \\n\", confusion_matrix(y_test, y_pred2))"
   ]
  },
  {
   "cell_type": "markdown",
   "id": "ba15b403",
   "metadata": {},
   "source": [
    "The accuracy score of the various models are as follows:\n",
    "\n",
    "Accuracy Score of Gaussian NB 0.85 is\n",
    "\n",
    "Accuracy Score of Bernoulli NB is 085\n",
    "\n",
    "Accuracy score of Logistic Regression Model is 0.85\n",
    "\n",
    "Accuracy score of KNN Model is 0.88\n",
    "\n",
    "Accuracy score of Linear SVM Model is, 0.85\n",
    "\n",
    "Accuracy score of Decision Tree Model is, 0.88\n",
    "\n",
    "Accuracy score of Random Forest Classifier Model is, 0.88"
   ]
  },
  {
   "cell_type": "markdown",
   "id": "2aeac942",
   "metadata": {},
   "source": [
    "**Hence we can conclude that random forest classifier,knn model and decision tree model has a good accuracy than other ML models**"
   ]
  },
  {
   "cell_type": "code",
   "execution_count": null,
   "id": "ce75349a",
   "metadata": {},
   "outputs": [],
   "source": []
  }
 ],
 "metadata": {
  "kernelspec": {
   "display_name": "Python 3 (ipykernel)",
   "language": "python",
   "name": "python3"
  },
  "language_info": {
   "codemirror_mode": {
    "name": "ipython",
    "version": 3
   },
   "file_extension": ".py",
   "mimetype": "text/x-python",
   "name": "python",
   "nbconvert_exporter": "python",
   "pygments_lexer": "ipython3",
   "version": "3.9.12"
  }
 },
 "nbformat": 4,
 "nbformat_minor": 5
}
