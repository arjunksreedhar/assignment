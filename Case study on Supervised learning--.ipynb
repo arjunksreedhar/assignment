{
 "cells": [
  {
   "cell_type": "code",
   "execution_count": 1,
   "id": "bc006526",
   "metadata": {},
   "outputs": [],
   "source": [
    "#import neccesary libraries\n",
    "import pandas as pd\n",
    "import numpy as np\n",
    "import matplotlib.pyplot as plt\n",
    "import seaborn as sns\n",
    "from sklearn.model_selection import train_test_split\n",
    "from sklearn.metrics import accuracy_score,f1_score,confusion_matrix,recall_score,precision_score\n",
    "import warnings\n",
    "warnings.filterwarnings('ignore')"
   ]
  },
  {
   "cell_type": "markdown",
   "id": "7cff844c",
   "metadata": {},
   "source": [
    "### 1. Read the dataset to the python environment.\n"
   ]
  },
  {
   "cell_type": "code",
   "execution_count": 2,
   "id": "6aec893d",
   "metadata": {},
   "outputs": [],
   "source": [
    "#read the dataset\n",
    "data=pd.read_excel('iris (2).xls')"
   ]
  },
  {
   "cell_type": "code",
   "execution_count": 3,
   "id": "253eb8c8",
   "metadata": {
    "scrolled": true
   },
   "outputs": [
    {
     "data": {
      "text/html": [
       "<div>\n",
       "<style scoped>\n",
       "    .dataframe tbody tr th:only-of-type {\n",
       "        vertical-align: middle;\n",
       "    }\n",
       "\n",
       "    .dataframe tbody tr th {\n",
       "        vertical-align: top;\n",
       "    }\n",
       "\n",
       "    .dataframe thead th {\n",
       "        text-align: right;\n",
       "    }\n",
       "</style>\n",
       "<table border=\"1\" class=\"dataframe\">\n",
       "  <thead>\n",
       "    <tr style=\"text-align: right;\">\n",
       "      <th></th>\n",
       "      <th>SL</th>\n",
       "      <th>SW</th>\n",
       "      <th>PL</th>\n",
       "      <th>PW</th>\n",
       "      <th>Classification</th>\n",
       "    </tr>\n",
       "  </thead>\n",
       "  <tbody>\n",
       "    <tr>\n",
       "      <th>0</th>\n",
       "      <td>5.1</td>\n",
       "      <td>3.5</td>\n",
       "      <td>1.4</td>\n",
       "      <td>0.2</td>\n",
       "      <td>Iris-setosa</td>\n",
       "    </tr>\n",
       "    <tr>\n",
       "      <th>1</th>\n",
       "      <td>4.9</td>\n",
       "      <td>3.0</td>\n",
       "      <td>1.4</td>\n",
       "      <td>0.2</td>\n",
       "      <td>Iris-setosa</td>\n",
       "    </tr>\n",
       "    <tr>\n",
       "      <th>2</th>\n",
       "      <td>NaN</td>\n",
       "      <td>3.2</td>\n",
       "      <td>1.3</td>\n",
       "      <td>0.2</td>\n",
       "      <td>Iris-setosa</td>\n",
       "    </tr>\n",
       "    <tr>\n",
       "      <th>3</th>\n",
       "      <td>4.6</td>\n",
       "      <td>3.1</td>\n",
       "      <td>1.5</td>\n",
       "      <td>0.2</td>\n",
       "      <td>Iris-setosa</td>\n",
       "    </tr>\n",
       "    <tr>\n",
       "      <th>4</th>\n",
       "      <td>5.0</td>\n",
       "      <td>3.6</td>\n",
       "      <td>1.4</td>\n",
       "      <td>0.2</td>\n",
       "      <td>Iris-setosa</td>\n",
       "    </tr>\n",
       "  </tbody>\n",
       "</table>\n",
       "</div>"
      ],
      "text/plain": [
       "    SL   SW   PL   PW Classification\n",
       "0  5.1  3.5  1.4  0.2    Iris-setosa\n",
       "1  4.9  3.0  1.4  0.2    Iris-setosa\n",
       "2  NaN  3.2  1.3  0.2    Iris-setosa\n",
       "3  4.6  3.1  1.5  0.2    Iris-setosa\n",
       "4  5.0  3.6  1.4  0.2    Iris-setosa"
      ]
     },
     "execution_count": 3,
     "metadata": {},
     "output_type": "execute_result"
    }
   ],
   "source": [
    "data.head()"
   ]
  },
  {
   "cell_type": "code",
   "execution_count": 4,
   "id": "868d3b4c",
   "metadata": {},
   "outputs": [
    {
     "data": {
      "text/plain": [
       "(150, 5)"
      ]
     },
     "execution_count": 4,
     "metadata": {},
     "output_type": "execute_result"
    }
   ],
   "source": [
    "data.shape"
   ]
  },
  {
   "cell_type": "code",
   "execution_count": 5,
   "id": "b643fdd4",
   "metadata": {},
   "outputs": [
    {
     "name": "stdout",
     "output_type": "stream",
     "text": [
      "<class 'pandas.core.frame.DataFrame'>\n",
      "RangeIndex: 150 entries, 0 to 149\n",
      "Data columns (total 5 columns):\n",
      " #   Column          Non-Null Count  Dtype  \n",
      "---  ------          --------------  -----  \n",
      " 0   SL              143 non-null    float64\n",
      " 1   SW              144 non-null    float64\n",
      " 2   PL              144 non-null    float64\n",
      " 3   PW              150 non-null    float64\n",
      " 4   Classification  150 non-null    object \n",
      "dtypes: float64(4), object(1)\n",
      "memory usage: 6.0+ KB\n"
     ]
    }
   ],
   "source": [
    "data.info()"
   ]
  },
  {
   "cell_type": "markdown",
   "id": "018ae5e0",
   "metadata": {},
   "source": [
    "### 2. Do necessary pre-processing steps.\n"
   ]
  },
  {
   "cell_type": "code",
   "execution_count": 6,
   "id": "4b9ebf74",
   "metadata": {},
   "outputs": [
    {
     "data": {
      "text/plain": [
       "SL                7\n",
       "SW                6\n",
       "PL                6\n",
       "PW                0\n",
       "Classification    0\n",
       "dtype: int64"
      ]
     },
     "execution_count": 6,
     "metadata": {},
     "output_type": "execute_result"
    }
   ],
   "source": [
    "data.isnull().sum()"
   ]
  },
  {
   "cell_type": "code",
   "execution_count": 7,
   "id": "4b701ac3",
   "metadata": {},
   "outputs": [
    {
     "data": {
      "text/plain": [
       "<AxesSubplot:>"
      ]
     },
     "execution_count": 7,
     "metadata": {},
     "output_type": "execute_result"
    },
    {
     "data": {
      "image/png": "[encoded data removed]",
      "text/plain": [
       "<Figure size 432x288 with 2 Axes>"
      ]
     },
     "metadata": {
      "needs_background": "light"
     },
     "output_type": "display_data"
    }
   ],
   "source": [
    "t=data.isnull()\n",
    "sns.heatmap(t,cmap='cubehelix')"
   ]
  },
  {
   "cell_type": "markdown",
   "id": "774e9aaa",
   "metadata": {},
   "source": [
    "There are null values in SL,SW,PL so we need to handle those null values"
   ]
  },
  {
   "cell_type": "code",
   "execution_count": 8,
   "id": "3717ff68",
   "metadata": {},
   "outputs": [
    {
     "data": {
      "text/plain": [
       "array([[<AxesSubplot:title={'center':'SL'}>,\n",
       "        <AxesSubplot:title={'center':'SW'}>],\n",
       "       [<AxesSubplot:title={'center':'PL'}>,\n",
       "        <AxesSubplot:title={'center':'PW'}>]], dtype=object)"
      ]
     },
     "execution_count": 8,
     "metadata": {},
     "output_type": "execute_result"
    },
    {
     "data": {
      "image/png": "[encoded data removed]",
      "text/plain": [
       "<Figure size 720x504 with 4 Axes>"
      ]
     },
     "metadata": {
      "needs_background": "light"
     },
     "output_type": "display_data"
    }
   ],
   "source": [
    "data.hist(figsize=(10,7))"
   ]
  },
  {
   "cell_type": "code",
   "execution_count": 9,
   "id": "665445e2",
   "metadata": {},
   "outputs": [],
   "source": [
    "#fill the null values with median\n",
    "data['SL']=data['SL'].fillna(data['SL'].median())"
   ]
  },
  {
   "cell_type": "code",
   "execution_count": 10,
   "id": "132e6af7",
   "metadata": {},
   "outputs": [],
   "source": [
    "#fill the null values with median\n",
    "data['SW']=data['SW'].fillna(data['SW'].median())"
   ]
  },
  {
   "cell_type": "code",
   "execution_count": 11,
   "id": "2a339a04",
   "metadata": {},
   "outputs": [],
   "source": [
    "#fill the null values with median\n",
    "data['PL']=data['PL'].fillna(data['PL'].median())"
   ]
  },
  {
   "cell_type": "code",
   "execution_count": 12,
   "id": "f7297eab",
   "metadata": {},
   "outputs": [
    {
     "data": {
      "text/plain": [
       "<AxesSubplot:>"
      ]
     },
     "execution_count": 12,
     "metadata": {},
     "output_type": "execute_result"
    },
    {
     "data": {
      "image/png": "[encoded data removed]",
      "text/plain": [
       "<Figure size 432x288 with 2 Axes>"
      ]
     },
     "metadata": {
      "needs_background": "light"
     },
     "output_type": "display_data"
    }
   ],
   "source": [
    "t=data.isnull()\n",
    "sns.heatmap(t,cmap='cubehelix')"
   ]
  },
  {
   "cell_type": "markdown",
   "id": "aab33d1b",
   "metadata": {},
   "source": [
    "Hence we handle the null values."
   ]
  },
  {
   "cell_type": "code",
   "execution_count": 13,
   "id": "b4674bd2",
   "metadata": {},
   "outputs": [
    {
     "data": {
      "text/plain": [
       "{'whiskers': [<matplotlib.lines.Line2D at 0x20f211dda90>,\n",
       "  <matplotlib.lines.Line2D at 0x20f211ddd60>],\n",
       " 'caps': [<matplotlib.lines.Line2D at 0x20f211ea130>,\n",
       "  <matplotlib.lines.Line2D at 0x20f211ea340>],\n",
       " 'boxes': [<matplotlib.lines.Line2D at 0x20f211dd7c0>],\n",
       " 'medians': [<matplotlib.lines.Line2D at 0x20f211ea610>],\n",
       " 'fliers': [<matplotlib.lines.Line2D at 0x20f211ea8e0>],\n",
       " 'means': []}"
      ]
     },
     "execution_count": 13,
     "metadata": {},
     "output_type": "execute_result"
    },
    {
     "data": {
      "image/png": "[encoded data removed]",
      "text/plain": [
       "<Figure size 432x288 with 1 Axes>"
      ]
     },
     "metadata": {
      "needs_background": "light"
     },
     "output_type": "display_data"
    }
   ],
   "source": [
    "plt.boxplot(data['SW'])"
   ]
  },
  {
   "cell_type": "markdown",
   "id": "56c4b266",
   "metadata": {},
   "source": [
    "There are outliers in the SW column so we need to handle it"
   ]
  },
  {
   "cell_type": "code",
   "execution_count": 14,
   "id": "0a9c8ae4",
   "metadata": {},
   "outputs": [],
   "source": [
    " for x in range(1,7):\n",
    "    Q1=np.percentile(data['SW'],25, interpolation='midpoint')\n",
    "    Q2=np.percentile(data['SW'],50, interpolation='midpoint')\n",
    "    Q3=np.percentile(data['SW'],75, interpolation='midpoint')\n",
    "    iqr=Q3-Q1\n",
    "    low_lim=Q1-1.5*iqr\n",
    "    up_lim=Q3+1.5*iqr\n",
    "    ind1=data['SW']>up_lim\n",
    "    ind2=data['SW']<low_lim\n",
    "    q=data.loc[ind1].index\n",
    "    r=data.loc[ind2].index\n",
    "    data.drop(q, inplace=True)\n",
    "    data.drop(r,inplace=True)"
   ]
  },
  {
   "cell_type": "code",
   "execution_count": 15,
   "id": "715d5615",
   "metadata": {},
   "outputs": [
    {
     "data": {
      "text/plain": [
       "{'whiskers': [<matplotlib.lines.Line2D at 0x20f212baf10>,\n",
       "  <matplotlib.lines.Line2D at 0x20f212ca220>],\n",
       " 'caps': [<matplotlib.lines.Line2D at 0x20f212ca4f0>,\n",
       "  <matplotlib.lines.Line2D at 0x20f212ca7c0>],\n",
       " 'boxes': [<matplotlib.lines.Line2D at 0x20f212bac40>],\n",
       " 'medians': [<matplotlib.lines.Line2D at 0x20f212caa90>],\n",
       " 'fliers': [<matplotlib.lines.Line2D at 0x20f212cad60>],\n",
       " 'means': []}"
      ]
     },
     "execution_count": 15,
     "metadata": {},
     "output_type": "execute_result"
    },
    {
     "data": {
      "image/png": "[encoded data removed]",
      "text/plain": [
       "<Figure size 432x288 with 1 Axes>"
      ]
     },
     "metadata": {
      "needs_background": "light"
     },
     "output_type": "display_data"
    }
   ],
   "source": [
    "plt.boxplot(data['SW'])"
   ]
  },
  {
   "cell_type": "markdown",
   "id": "863bfa3c",
   "metadata": {},
   "source": [
    "Handled the outliers"
   ]
  },
  {
   "cell_type": "code",
   "execution_count": 16,
   "id": "2b0b90da",
   "metadata": {},
   "outputs": [
    {
     "data": {
      "text/plain": [
       "Iris-virginica     50\n",
       "Iris-versicolor    49\n",
       "Iris-setosa        44\n",
       "Name: Classification, dtype: int64"
      ]
     },
     "execution_count": 16,
     "metadata": {},
     "output_type": "execute_result"
    }
   ],
   "source": [
    "data['Classification'].value_counts()"
   ]
  },
  {
   "cell_type": "code",
   "execution_count": 17,
   "id": "6b394a53",
   "metadata": {},
   "outputs": [
    {
     "data": {
      "image/png": "[encoded data removed]",
      "text/plain": [
       "<Figure size 720x576 with 1 Axes>"
      ]
     },
     "metadata": {
      "needs_background": "light"
     },
     "output_type": "display_data"
    }
   ],
   "source": [
    "plt.figure(figsize=(10,8))\n",
    "ax=sns.countplot(data['Classification'])\n",
    "for p in ax.patches:\n",
    "   ax.annotate('{:.1f}'.format(p.get_height()), (p.get_x()+0.35,p.get_height()+2.01))\n",
    "plt.show()"
   ]
  },
  {
   "cell_type": "markdown",
   "id": "9a154ffb",
   "metadata": {},
   "source": [
    " we have more data in Iris-virginica \n"
   ]
  },
  {
   "cell_type": "code",
   "execution_count": 18,
   "id": "4645230b",
   "metadata": {},
   "outputs": [],
   "source": [
    "#using label encoder hot encoder to transform data\n",
    "from sklearn.preprocessing import LabelEncoder\n",
    "label_en=LabelEncoder()\n",
    "a=['Classification']\n",
    "for i in np.arange(len(a)):\n",
    "    data[a[i]]= label_en.fit_transform(data[a[i]])"
   ]
  },
  {
   "cell_type": "code",
   "execution_count": 19,
   "id": "a99e231b",
   "metadata": {
    "scrolled": true
   },
   "outputs": [
    {
     "data": {
      "text/html": [
       "<div>\n",
       "<style scoped>\n",
       "    .dataframe tbody tr th:only-of-type {\n",
       "        vertical-align: middle;\n",
       "    }\n",
       "\n",
       "    .dataframe tbody tr th {\n",
       "        vertical-align: top;\n",
       "    }\n",
       "\n",
       "    .dataframe thead th {\n",
       "        text-align: right;\n",
       "    }\n",
       "</style>\n",
       "<table border=\"1\" class=\"dataframe\">\n",
       "  <thead>\n",
       "    <tr style=\"text-align: right;\">\n",
       "      <th></th>\n",
       "      <th>SL</th>\n",
       "      <th>SW</th>\n",
       "      <th>PL</th>\n",
       "      <th>PW</th>\n",
       "      <th>Classification</th>\n",
       "    </tr>\n",
       "  </thead>\n",
       "  <tbody>\n",
       "    <tr>\n",
       "      <th>0</th>\n",
       "      <td>5.1</td>\n",
       "      <td>3.5</td>\n",
       "      <td>1.4</td>\n",
       "      <td>0.2</td>\n",
       "      <td>0</td>\n",
       "    </tr>\n",
       "    <tr>\n",
       "      <th>1</th>\n",
       "      <td>4.9</td>\n",
       "      <td>3.0</td>\n",
       "      <td>1.4</td>\n",
       "      <td>0.2</td>\n",
       "      <td>0</td>\n",
       "    </tr>\n",
       "    <tr>\n",
       "      <th>2</th>\n",
       "      <td>5.8</td>\n",
       "      <td>3.2</td>\n",
       "      <td>1.3</td>\n",
       "      <td>0.2</td>\n",
       "      <td>0</td>\n",
       "    </tr>\n",
       "    <tr>\n",
       "      <th>3</th>\n",
       "      <td>4.6</td>\n",
       "      <td>3.1</td>\n",
       "      <td>1.5</td>\n",
       "      <td>0.2</td>\n",
       "      <td>0</td>\n",
       "    </tr>\n",
       "    <tr>\n",
       "      <th>4</th>\n",
       "      <td>5.0</td>\n",
       "      <td>3.6</td>\n",
       "      <td>1.4</td>\n",
       "      <td>0.2</td>\n",
       "      <td>0</td>\n",
       "    </tr>\n",
       "  </tbody>\n",
       "</table>\n",
       "</div>"
      ],
      "text/plain": [
       "    SL   SW   PL   PW  Classification\n",
       "0  5.1  3.5  1.4  0.2               0\n",
       "1  4.9  3.0  1.4  0.2               0\n",
       "2  5.8  3.2  1.3  0.2               0\n",
       "3  4.6  3.1  1.5  0.2               0\n",
       "4  5.0  3.6  1.4  0.2               0"
      ]
     },
     "execution_count": 19,
     "metadata": {},
     "output_type": "execute_result"
    }
   ],
   "source": [
    "data.head()"
   ]
  },
  {
   "cell_type": "markdown",
   "id": "b4833dcd",
   "metadata": {},
   "source": [
    "### 3. Find out which classification model gives the best result to predict iris species.(also do random forest algorithm)"
   ]
  },
  {
   "cell_type": "code",
   "execution_count": 20,
   "id": "08235577",
   "metadata": {},
   "outputs": [],
   "source": [
    "#selecting variables x and y\n",
    "x=data.drop(['Classification'],axis=1)\n",
    "y=data['Classification']"
   ]
  },
  {
   "cell_type": "code",
   "execution_count": 21,
   "id": "6cb0a0b1",
   "metadata": {},
   "outputs": [],
   "source": [
    "#Splitting the dataset to test and train\n",
    "x_train,x_test,y_train,y_test=train_test_split(x,y,random_state=42,test_size=.20)"
   ]
  },
  {
   "cell_type": "code",
   "execution_count": 22,
   "id": "f8b28477",
   "metadata": {},
   "outputs": [],
   "source": [
    "#LogisticRegression\n",
    "from sklearn.linear_model import LogisticRegression\n",
    "l_model = LogisticRegression()\n",
    "l_model.fit(x_train,y_train)\n",
    "pred = l_model.predict(x_test)"
   ]
  },
  {
   "cell_type": "code",
   "execution_count": 23,
   "id": "99446fef",
   "metadata": {},
   "outputs": [
    {
     "name": "stdout",
     "output_type": "stream",
     "text": [
      "Accuracy Score of Logistic model: 1.0\n"
     ]
    }
   ],
   "source": [
    "print('Accuracy Score of Logistic model:', accuracy_score(y_test, pred))"
   ]
  },
  {
   "cell_type": "code",
   "execution_count": 24,
   "id": "9f6e892e",
   "metadata": {},
   "outputs": [],
   "source": [
    "#Random forest classifier\n",
    "from sklearn.ensemble import RandomForestClassifier\n",
    "rf= RandomForestClassifier()\n",
    "rf.fit(x_train, y_train)\n",
    "y_pred= rf.predict(x_test)"
   ]
  },
  {
   "cell_type": "code",
   "execution_count": 25,
   "id": "d1ae8ca3",
   "metadata": {},
   "outputs": [
    {
     "name": "stdout",
     "output_type": "stream",
     "text": [
      "Accuracy Score of Random forest model: 1.0\n"
     ]
    }
   ],
   "source": [
    "print('Accuracy Score of Random forest model:', accuracy_score(y_test, y_pred))"
   ]
  },
  {
   "cell_type": "code",
   "execution_count": 26,
   "id": "93870e0f",
   "metadata": {},
   "outputs": [],
   "source": [
    "#SVC\n",
    "from sklearn.svm import SVC\n",
    "classifier = SVC(kernel = 'rbf', random_state = 0)\n",
    "classifier.fit(x_train, y_train)\n",
    "pred_SVC= classifier.predict(x_test)"
   ]
  },
  {
   "cell_type": "code",
   "execution_count": 27,
   "id": "1a1ae831",
   "metadata": {},
   "outputs": [
    {
     "name": "stdout",
     "output_type": "stream",
     "text": [
      "Accuracy Score of SVM is: 1.0\n"
     ]
    }
   ],
   "source": [
    "print('Accuracy Score of SVM is:', accuracy_score(y_test, pred_SVC))"
   ]
  },
  {
   "cell_type": "code",
   "execution_count": 28,
   "id": "bc895708",
   "metadata": {},
   "outputs": [],
   "source": [
    "#KNN MODEL\n",
    "#Importing KNN model and fitting the model\n",
    "from sklearn.neighbors import KNeighborsClassifier\n",
    "acc_value = []\n",
    "neighbours = np.arange(3,15)\n",
    "for k in neighbours:\n",
    "     classifier=KNeighborsClassifier(n_neighbors=k,metric='minkowski')\n",
    "     classifier.fit(x_train,y_train)\n",
    "     pred = classifier.predict(x_test)\n",
    "     acc = accuracy_score(y_test,pred)\n",
    "     acc_value.append(acc)"
   ]
  },
  {
   "cell_type": "code",
   "execution_count": 29,
   "id": "1788ed97",
   "metadata": {},
   "outputs": [
    {
     "data": {
      "text/plain": [
       "Text(0, 0.5, 'accuracy')"
      ]
     },
     "execution_count": 29,
     "metadata": {},
     "output_type": "execute_result"
    },
    {
     "data": {
      "image/png": "[encoded data removed]",
      "text/plain": [
       "<Figure size 432x288 with 1 Axes>"
      ]
     },
     "metadata": {
      "needs_background": "light"
     },
     "output_type": "display_data"
    }
   ],
   "source": [
    "plt.plot(neighbours, acc_value, 'o-')\n",
    "plt.xlabel('k_value')\n",
    "plt.ylabel('accuracy')"
   ]
  },
  {
   "cell_type": "code",
   "execution_count": 30,
   "id": "44dc050a",
   "metadata": {},
   "outputs": [],
   "source": [
    "classifier=KNeighborsClassifier(n_neighbors=4,metric='minkowski')\n",
    "classifier.fit(x_train,y_train)\n",
    "pred = classifier.predict(x_test)"
   ]
  },
  {
   "cell_type": "code",
   "execution_count": 31,
   "id": "83cce61e",
   "metadata": {},
   "outputs": [
    {
     "name": "stdout",
     "output_type": "stream",
     "text": [
      "Accuracy Score is: 1.0\n"
     ]
    }
   ],
   "source": [
    "print('Accuracy Score is:', accuracy_score(y_test, pred))"
   ]
  },
  {
   "cell_type": "markdown",
   "id": "0895b779",
   "metadata": {},
   "source": [
    "**Here we got 100% accuracy in all model that is Logistic model,SVM model,Random Forest model,KNN model. So we can predict species of plants with any of these models**"
   ]
  },
  {
   "cell_type": "code",
   "execution_count": null,
   "id": "33ba2a25",
   "metadata": {},
   "outputs": [],
   "source": []
  }
 ],
 "metadata": {
  "kernelspec": {
   "display_name": "Python 3 (ipykernel)",
   "language": "python",
   "name": "python3"
  },
  "language_info": {
   "codemirror_mode": {
    "name": "ipython",
    "version": 3
   },
   "file_extension": ".py",
   "mimetype": "text/x-python",
   "name": "python",
   "nbconvert_exporter": "python",
   "pygments_lexer": "ipython3",
   "version": "3.9.12"
  }
 },
 "nbformat": 4,
 "nbformat_minor": 5
}
