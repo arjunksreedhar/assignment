{
 "cells": [
  {
   "cell_type": "code",
   "execution_count": 1,
   "id": "678ac2f5",
   "metadata": {},
   "outputs": [],
   "source": [
    "import numpy as np\n",
    "import pandas as pd\n",
    "import matplotlib.pyplot as plt\n",
    "import seaborn as sns\n",
    "import statistics\n",
    "data=pd.read_csv(\"StudentsPerformance.csv\")"
   ]
  },
  {
   "cell_type": "code",
   "execution_count": 2,
   "id": "994f49db",
   "metadata": {
    "scrolled": true
   },
   "outputs": [
    {
     "data": {
      "text/html": [
       "<div>\n",
       "<style scoped>\n",
       "    .dataframe tbody tr th:only-of-type {\n",
       "        vertical-align: middle;\n",
       "    }\n",
       "\n",
       "    .dataframe tbody tr th {\n",
       "        vertical-align: top;\n",
       "    }\n",
       "\n",
       "    .dataframe thead th {\n",
       "        text-align: right;\n",
       "    }\n",
       "</style>\n",
       "<table border=\"1\" class=\"dataframe\">\n",
       "  <thead>\n",
       "    <tr style=\"text-align: right;\">\n",
       "      <th></th>\n",
       "      <th>gender</th>\n",
       "      <th>race/ethnicity</th>\n",
       "      <th>parental level of education</th>\n",
       "      <th>lunch</th>\n",
       "      <th>test preparation course</th>\n",
       "      <th>math score</th>\n",
       "      <th>reading score</th>\n",
       "      <th>writing score</th>\n",
       "    </tr>\n",
       "  </thead>\n",
       "  <tbody>\n",
       "    <tr>\n",
       "      <th>0</th>\n",
       "      <td>female</td>\n",
       "      <td>group C</td>\n",
       "      <td>some high school</td>\n",
       "      <td>free/reduced</td>\n",
       "      <td>none</td>\n",
       "      <td>0</td>\n",
       "      <td>17</td>\n",
       "      <td>10</td>\n",
       "    </tr>\n",
       "    <tr>\n",
       "      <th>1</th>\n",
       "      <td>female</td>\n",
       "      <td>group B</td>\n",
       "      <td>high school</td>\n",
       "      <td>free/reduced</td>\n",
       "      <td>none</td>\n",
       "      <td>8</td>\n",
       "      <td>24</td>\n",
       "      <td>23</td>\n",
       "    </tr>\n",
       "    <tr>\n",
       "      <th>2</th>\n",
       "      <td>female</td>\n",
       "      <td>group B</td>\n",
       "      <td>some high school</td>\n",
       "      <td>free/reduced</td>\n",
       "      <td>none</td>\n",
       "      <td>18</td>\n",
       "      <td>32</td>\n",
       "      <td>28</td>\n",
       "    </tr>\n",
       "    <tr>\n",
       "      <th>3</th>\n",
       "      <td>female</td>\n",
       "      <td>group B</td>\n",
       "      <td>some college</td>\n",
       "      <td>standard</td>\n",
       "      <td>none</td>\n",
       "      <td>11</td>\n",
       "      <td>38</td>\n",
       "      <td>32</td>\n",
       "    </tr>\n",
       "    <tr>\n",
       "      <th>4</th>\n",
       "      <td>female</td>\n",
       "      <td>group C</td>\n",
       "      <td>some college</td>\n",
       "      <td>free/reduced</td>\n",
       "      <td>none</td>\n",
       "      <td>22</td>\n",
       "      <td>39</td>\n",
       "      <td>33</td>\n",
       "    </tr>\n",
       "    <tr>\n",
       "      <th>...</th>\n",
       "      <td>...</td>\n",
       "      <td>...</td>\n",
       "      <td>...</td>\n",
       "      <td>...</td>\n",
       "      <td>...</td>\n",
       "      <td>...</td>\n",
       "      <td>...</td>\n",
       "      <td>...</td>\n",
       "    </tr>\n",
       "    <tr>\n",
       "      <th>995</th>\n",
       "      <td>male</td>\n",
       "      <td>group E</td>\n",
       "      <td>some college</td>\n",
       "      <td>standard</td>\n",
       "      <td>completed</td>\n",
       "      <td>99</td>\n",
       "      <td>87</td>\n",
       "      <td>81</td>\n",
       "    </tr>\n",
       "    <tr>\n",
       "      <th>996</th>\n",
       "      <td>male</td>\n",
       "      <td>group A</td>\n",
       "      <td>some college</td>\n",
       "      <td>standard</td>\n",
       "      <td>completed</td>\n",
       "      <td>100</td>\n",
       "      <td>96</td>\n",
       "      <td>86</td>\n",
       "    </tr>\n",
       "    <tr>\n",
       "      <th>997</th>\n",
       "      <td>male</td>\n",
       "      <td>group D</td>\n",
       "      <td>some college</td>\n",
       "      <td>standard</td>\n",
       "      <td>completed</td>\n",
       "      <td>100</td>\n",
       "      <td>97</td>\n",
       "      <td>99</td>\n",
       "    </tr>\n",
       "    <tr>\n",
       "      <th>998</th>\n",
       "      <td>male</td>\n",
       "      <td>group E</td>\n",
       "      <td>associate's degree</td>\n",
       "      <td>free/reduced</td>\n",
       "      <td>completed</td>\n",
       "      <td>100</td>\n",
       "      <td>100</td>\n",
       "      <td>93</td>\n",
       "    </tr>\n",
       "    <tr>\n",
       "      <th>999</th>\n",
       "      <td>male</td>\n",
       "      <td>group E</td>\n",
       "      <td>bachelor's degree</td>\n",
       "      <td>standard</td>\n",
       "      <td>completed</td>\n",
       "      <td>100</td>\n",
       "      <td>100</td>\n",
       "      <td>100</td>\n",
       "    </tr>\n",
       "  </tbody>\n",
       "</table>\n",
       "<p>1000 rows × 8 columns</p>\n",
       "</div>"
      ],
      "text/plain": [
       "     gender race/ethnicity parental level of education         lunch  \\\n",
       "0    female        group C            some high school  free/reduced   \n",
       "1    female        group B                 high school  free/reduced   \n",
       "2    female        group B            some high school  free/reduced   \n",
       "3    female        group B                some college      standard   \n",
       "4    female        group C                some college  free/reduced   \n",
       "..      ...            ...                         ...           ...   \n",
       "995    male        group E                some college      standard   \n",
       "996    male        group A                some college      standard   \n",
       "997    male        group D                some college      standard   \n",
       "998    male        group E          associate's degree  free/reduced   \n",
       "999    male        group E           bachelor's degree      standard   \n",
       "\n",
       "    test preparation course  math score  reading score  writing score  \n",
       "0                      none           0             17             10  \n",
       "1                      none           8             24             23  \n",
       "2                      none          18             32             28  \n",
       "3                      none          11             38             32  \n",
       "4                      none          22             39             33  \n",
       "..                      ...         ...            ...            ...  \n",
       "995               completed          99             87             81  \n",
       "996               completed         100             96             86  \n",
       "997               completed         100             97             99  \n",
       "998               completed         100            100             93  \n",
       "999               completed         100            100            100  \n",
       "\n",
       "[1000 rows x 8 columns]"
      ]
     },
     "execution_count": 2,
     "metadata": {},
     "output_type": "execute_result"
    }
   ],
   "source": [
    "data"
   ]
  },
  {
   "cell_type": "code",
   "execution_count": 3,
   "id": "21c8d4d3",
   "metadata": {
    "scrolled": true
   },
   "outputs": [
    {
     "data": {
      "text/plain": [
       "gender                         0\n",
       "race/ethnicity                 0\n",
       "parental level of education    0\n",
       "lunch                          0\n",
       "test preparation course        0\n",
       "math score                     0\n",
       "reading score                  0\n",
       "writing score                  0\n",
       "dtype: int64"
      ]
     },
     "execution_count": 3,
     "metadata": {},
     "output_type": "execute_result"
    }
   ],
   "source": [
    "data.isnull().sum()"
   ]
  },
  {
   "cell_type": "markdown",
   "id": "3a2613fb",
   "metadata": {},
   "source": [
    "Hence no null values"
   ]
  },
  {
   "cell_type": "markdown",
   "id": "56990831",
   "metadata": {},
   "source": [
    "## 1. Find out how many males and females participated in the test."
   ]
  },
  {
   "cell_type": "code",
   "execution_count": 4,
   "id": "82e36e0d",
   "metadata": {
    "scrolled": true
   },
   "outputs": [
    {
     "data": {
      "text/plain": [
       "female    518\n",
       "male      482\n",
       "Name: gender, dtype: int64"
      ]
     },
     "execution_count": 4,
     "metadata": {},
     "output_type": "execute_result"
    }
   ],
   "source": [
    "data['gender'].value_counts()"
   ]
  },
  {
   "cell_type": "markdown",
   "id": "fc93eddc",
   "metadata": {},
   "source": [
    "## 2. What do you think about the students' parental level of education?"
   ]
  },
  {
   "cell_type": "code",
   "execution_count": 5,
   "id": "c546b0b9",
   "metadata": {},
   "outputs": [
    {
     "data": {
      "text/plain": [
       "some college          226\n",
       "associate's degree    222\n",
       "high school           196\n",
       "some high school      179\n",
       "bachelor's degree     118\n",
       "master's degree        59\n",
       "Name: parental level of education, dtype: int64"
      ]
     },
     "execution_count": 5,
     "metadata": {},
     "output_type": "execute_result"
    }
   ],
   "source": [
    "data['parental level of education'].value_counts()"
   ]
  },
  {
   "cell_type": "code",
   "execution_count": 6,
   "id": "6679f590",
   "metadata": {},
   "outputs": [
    {
     "data": {
      "text/plain": [
       "(array([179.,   0., 196.,   0., 226.,   0., 222.,   0., 118.,  59.]),\n",
       " array([0. , 0.5, 1. , 1.5, 2. , 2.5, 3. , 3.5, 4. , 4.5, 5. ]),\n",
       " <BarContainer object of 10 artists>)"
      ]
     },
     "execution_count": 6,
     "metadata": {},
     "output_type": "execute_result"
    },
    {
     "data": {
      "image/png": "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\n",
      "text/plain": [
       "<Figure size 720x576 with 1 Axes>"
      ]
     },
     "metadata": {
      "needs_background": "light"
     },
     "output_type": "display_data"
    }
   ],
   "source": [
    "plt.figure(figsize=(10,8))\n",
    "plt.hist(data['parental level of education'],rwidth=0.7)"
   ]
  },
  {
   "cell_type": "markdown",
   "id": "01768da1",
   "metadata": {},
   "source": [
    "***||-from the above graph we can conclude that most of the parental level of education has done \"some college\"-||***"
   ]
  },
  {
   "cell_type": "markdown",
   "id": "199aea79",
   "metadata": {},
   "source": [
    "## 3.Who scores the most on average for math, reading and writing based on"
   ]
  },
  {
   "cell_type": "markdown",
   "id": "eae302fd",
   "metadata": {},
   "source": [
    "#### a-Gender"
   ]
  },
  {
   "cell_type": "code",
   "execution_count": 7,
   "id": "de345016",
   "metadata": {},
   "outputs": [
    {
     "name": "stderr",
     "output_type": "stream",
     "text": [
      "C:\\Users\\COMPUTER\\AppData\\Local\\Temp\\ipykernel_8700\\1961774292.py:1: FutureWarning: Indexing with multiple keys (implicitly converted to a tuple of keys) will be deprecated, use a list instead.\n",
      "  data.groupby('gender')['math score','reading score','writing score'].mean()\n"
     ]
    },
    {
     "data": {
      "text/html": [
       "<div>\n",
       "<style scoped>\n",
       "    .dataframe tbody tr th:only-of-type {\n",
       "        vertical-align: middle;\n",
       "    }\n",
       "\n",
       "    .dataframe tbody tr th {\n",
       "        vertical-align: top;\n",
       "    }\n",
       "\n",
       "    .dataframe thead th {\n",
       "        text-align: right;\n",
       "    }\n",
       "</style>\n",
       "<table border=\"1\" class=\"dataframe\">\n",
       "  <thead>\n",
       "    <tr style=\"text-align: right;\">\n",
       "      <th></th>\n",
       "      <th>math score</th>\n",
       "      <th>reading score</th>\n",
       "      <th>writing score</th>\n",
       "    </tr>\n",
       "    <tr>\n",
       "      <th>gender</th>\n",
       "      <th></th>\n",
       "      <th></th>\n",
       "      <th></th>\n",
       "    </tr>\n",
       "  </thead>\n",
       "  <tbody>\n",
       "    <tr>\n",
       "      <th>female</th>\n",
       "      <td>63.376448</td>\n",
       "      <td>72.590734</td>\n",
       "      <td>72.467181</td>\n",
       "    </tr>\n",
       "    <tr>\n",
       "      <th>male</th>\n",
       "      <td>68.821577</td>\n",
       "      <td>65.545643</td>\n",
       "      <td>63.446058</td>\n",
       "    </tr>\n",
       "  </tbody>\n",
       "</table>\n",
       "</div>"
      ],
      "text/plain": [
       "        math score  reading score  writing score\n",
       "gender                                          \n",
       "female   63.376448      72.590734      72.467181\n",
       "male     68.821577      65.545643      63.446058"
      ]
     },
     "execution_count": 7,
     "metadata": {},
     "output_type": "execute_result"
    }
   ],
   "source": [
    "data.groupby('gender')['math score','reading score','writing score'].mean()"
   ]
  },
  {
   "cell_type": "markdown",
   "id": "b9fd0034",
   "metadata": {},
   "source": [
    "***||For math score male students has more average than female.||***"
   ]
  },
  {
   "cell_type": "markdown",
   "id": "aeacc5c1",
   "metadata": {},
   "source": [
    "***||For reading and writing score female students has more average than male students.||***"
   ]
  },
  {
   "cell_type": "markdown",
   "id": "c40c5d59",
   "metadata": {},
   "source": [
    "#### b-Test preparation course"
   ]
  },
  {
   "cell_type": "code",
   "execution_count": 8,
   "id": "c3d6f845",
   "metadata": {},
   "outputs": [
    {
     "name": "stderr",
     "output_type": "stream",
     "text": [
      "C:\\Users\\COMPUTER\\AppData\\Local\\Temp\\ipykernel_8700\\245703330.py:1: FutureWarning: Indexing with multiple keys (implicitly converted to a tuple of keys) will be deprecated, use a list instead.\n",
      "  data.groupby('test preparation course')['math score','reading score','writing score'].mean()\n"
     ]
    },
    {
     "data": {
      "text/html": [
       "<div>\n",
       "<style scoped>\n",
       "    .dataframe tbody tr th:only-of-type {\n",
       "        vertical-align: middle;\n",
       "    }\n",
       "\n",
       "    .dataframe tbody tr th {\n",
       "        vertical-align: top;\n",
       "    }\n",
       "\n",
       "    .dataframe thead th {\n",
       "        text-align: right;\n",
       "    }\n",
       "</style>\n",
       "<table border=\"1\" class=\"dataframe\">\n",
       "  <thead>\n",
       "    <tr style=\"text-align: right;\">\n",
       "      <th></th>\n",
       "      <th>math score</th>\n",
       "      <th>reading score</th>\n",
       "      <th>writing score</th>\n",
       "    </tr>\n",
       "    <tr>\n",
       "      <th>test preparation course</th>\n",
       "      <th></th>\n",
       "      <th></th>\n",
       "      <th></th>\n",
       "    </tr>\n",
       "  </thead>\n",
       "  <tbody>\n",
       "    <tr>\n",
       "      <th>completed</th>\n",
       "      <td>69.96648</td>\n",
       "      <td>74.175978</td>\n",
       "      <td>74.684358</td>\n",
       "    </tr>\n",
       "    <tr>\n",
       "      <th>none</th>\n",
       "      <td>63.78972</td>\n",
       "      <td>66.417445</td>\n",
       "      <td>64.457944</td>\n",
       "    </tr>\n",
       "  </tbody>\n",
       "</table>\n",
       "</div>"
      ],
      "text/plain": [
       "                         math score  reading score  writing score\n",
       "test preparation course                                          \n",
       "completed                  69.96648      74.175978      74.684358\n",
       "none                       63.78972      66.417445      64.457944"
      ]
     },
     "execution_count": 8,
     "metadata": {},
     "output_type": "execute_result"
    }
   ],
   "source": [
    "data.groupby('test preparation course')['math score','reading score','writing score'].mean()"
   ]
  },
  {
   "cell_type": "markdown",
   "id": "5ba06d03",
   "metadata": {},
   "source": [
    "***||Course completed students has more average in maths,reading and writing score than not completed students.||***"
   ]
  },
  {
   "cell_type": "markdown",
   "id": "9c7919f4",
   "metadata": {},
   "source": [
    "## 4.What do you think about the scoring variation for math, reading and writing based on"
   ]
  },
  {
   "cell_type": "markdown",
   "id": "eb25188f",
   "metadata": {},
   "source": [
    "#### a-Gender"
   ]
  },
  {
   "cell_type": "code",
   "execution_count": 9,
   "id": "79660b76",
   "metadata": {},
   "outputs": [
    {
     "name": "stderr",
     "output_type": "stream",
     "text": [
      "C:\\Users\\COMPUTER\\AppData\\Local\\Temp\\ipykernel_8700\\1446066444.py:1: FutureWarning: Indexing with multiple keys (implicitly converted to a tuple of keys) will be deprecated, use a list instead.\n",
      "  data.groupby('gender')['math score','reading score','writing score'].var()\n"
     ]
    },
    {
     "data": {
      "text/html": [
       "<div>\n",
       "<style scoped>\n",
       "    .dataframe tbody tr th:only-of-type {\n",
       "        vertical-align: middle;\n",
       "    }\n",
       "\n",
       "    .dataframe tbody tr th {\n",
       "        vertical-align: top;\n",
       "    }\n",
       "\n",
       "    .dataframe thead th {\n",
       "        text-align: right;\n",
       "    }\n",
       "</style>\n",
       "<table border=\"1\" class=\"dataframe\">\n",
       "  <thead>\n",
       "    <tr style=\"text-align: right;\">\n",
       "      <th></th>\n",
       "      <th>math score</th>\n",
       "      <th>reading score</th>\n",
       "      <th>writing score</th>\n",
       "    </tr>\n",
       "    <tr>\n",
       "      <th>gender</th>\n",
       "      <th></th>\n",
       "      <th></th>\n",
       "      <th></th>\n",
       "    </tr>\n",
       "  </thead>\n",
       "  <tbody>\n",
       "    <tr>\n",
       "      <th>female</th>\n",
       "      <td>16.029928</td>\n",
       "      <td>14.411018</td>\n",
       "      <td>14.844842</td>\n",
       "    </tr>\n",
       "    <tr>\n",
       "      <th>male</th>\n",
       "      <td>14.556411	</td>\n",
       "      <td>14.149594</td>\n",
       "      <td>14.227225</td>\n",
       "    </tr>\n",
       "  </tbody>\n",
       "</table>\n",
       "</div>"
      ],
      "text/plain": [
       "        math score  reading score  writing score\n",
       "gender                                          \n",
       "female  16.029928     14.411018    14.844842\n",
       "male    14.556411     14.149594     14.227225"
      ]
     },
     "execution_count": 9,
     "metadata": {},
     "output_type": "execute_result"
    }
   ],
   "source": [
    "data.groupby('gender')['math score','reading score','writing score'].std()"
   ]
  },
  {
   "cell_type": "markdown",
   "id": "a53cff7e",
   "metadata": {},
   "source": [
    "***||female students has more variance than male students in math,reading and writing score , that is female students are more than male students||***\n"
   ]
  },
  {
   "cell_type": "markdown",
   "id": "bca12644",
   "metadata": {},
   "source": [
    "#### b-Test preparation course"
   ]
  },
  {
   "cell_type": "code",
   "execution_count": 10,
   "id": "3a453103",
   "metadata": {},
   "outputs": [
    {
     "name": "stderr",
     "output_type": "stream",
     "text": [
      "C:\\Users\\COMPUTER\\AppData\\Local\\Temp\\ipykernel_8700\\3797957691.py:1: FutureWarning: Indexing with multiple keys (implicitly converted to a tuple of keys) will be deprecated, use a list instead.\n",
      "  data.groupby('test preparation course')['math score','reading score','writing score'].var()\n"
     ]
    },
    {
     "data": {
      "text/html": [
       "<div>\n",
       "<style scoped>\n",
       "    .dataframe tbody tr th:only-of-type {\n",
       "        vertical-align: middle;\n",
       "    }\n",
       "\n",
       "    .dataframe tbody tr th {\n",
       "        vertical-align: top;\n",
       "    }\n",
       "\n",
       "    .dataframe thead th {\n",
       "        text-align: right;\n",
       "    }\n",
       "</style>\n",
       "<table border=\"1\" class=\"dataframe\">\n",
       "  <thead>\n",
       "    <tr style=\"text-align: right;\">\n",
       "      <th></th>\n",
       "      <th>math score</th>\n",
       "      <th>reading score</th>\n",
       "      <th>writing score</th>\n",
       "    </tr>\n",
       "    <tr>\n",
       "      <th>test preparation course</th>\n",
       "      <th></th>\n",
       "      <th></th>\n",
       "      <th></th>\n",
       "    </tr>\n",
       "  </thead>\n",
       "  <tbody>\n",
       "    <tr>\n",
       "      <th>completed</th>\n",                                         
       "      <td>14.521847</td>\n",
       "      <td>13.537572</td>\n",
       "      <td>13.236412</td>\n",
       "    </tr>\n",
       "    <tr>\n",
       "      <th>none</th>\n",
       "      <td>15.705689</td>\n",
       "      <td>14.608896</td>\n",
       "      <td>15.041667</td>\n",
       "    </tr>\n",
       "  </tbody>\n",
       "</table>\n",
       "</div>"
      ],
      "text/plain": [
       "                         math score  reading score  writing score\n",
       "test preparation course                                          \n",
       "completed                14.521847     13.537572     13.236412\n",
       "none                     15.705689     14.608896    15.041667"
      ]
     },
     "execution_count": 10,
     "metadata": {},
     "output_type": "execute_result"
    }
   ],
   "source": [
    "data.groupby('test preparation course')['math score','reading score','writing score'].var()"
   ]
  },
  {
   "cell_type": "markdown",
   "id": "a5d11c9e",
   "metadata": {},
   "source": [
    "***||Hence we can conlcude course not completed students are more than the course completed students and have more score in math,reading and writing.||***\n"
   ]
  },
  {
   "cell_type": "markdown",
   "id": "bd536d52",
   "metadata": {},
   "source": [
    "## 5.The management needs your help to give bonus points to the top 25% of students based on their maths score, so how will you help the management to achieve this."
   ]
  },
  {
   "cell_type": "markdown",
   "id": "0cf846d7",
   "metadata": {},
   "source": [
    "*To find the top 25% of students we first sort the data students based on theie maths score(higher ot lower), then fetch the top 25% of data.*"
   ]
  },
  {
   "cell_type": "code",
   "execution_count": 11,
   "id": "9a0ed5b5",
   "metadata": {},
   "outputs": [
    {
     "data": {
      "text/html": [
       "<div>\n",
       "<style scoped>\n",
       "    .dataframe tbody tr th:only-of-type {\n",
       "        vertical-align: middle;\n",
       "    }\n",
       "\n",
       "    .dataframe tbody tr th {\n",
       "        vertical-align: top;\n",
       "    }\n",
       "\n",
       "    .dataframe thead th {\n",
       "        text-align: right;\n",
       "    }\n",
       "</style>\n",
       "<table border=\"1\" class=\"dataframe\">\n",
       "  <thead>\n",
       "    <tr style=\"text-align: right;\">\n",
       "      <th></th>\n",
       "      <th>gender</th>\n",
       "      <th>race/ethnicity</th>\n",
       "      <th>parental level of education</th>\n",
       "      <th>lunch</th>\n",
       "      <th>test preparation course</th>\n",
       "      <th>math score</th>\n",
       "      <th>reading score</th>\n",
       "      <th>writing score</th>\n",
       "    </tr>\n",
       "  </thead>\n",
       "  <tbody>\n",
       "    <tr>\n",
       "      <th>515</th>\n",
       "      <td>female</td>\n",
       "      <td>group E</td>\n",
       "      <td>some college</td>\n",
       "      <td>standard</td>\n",
       "      <td>none</td>\n",
       "      <td>100</td>\n",
       "      <td>92</td>\n",
       "      <td>97</td>\n",
       "    </tr>\n",
       "    <tr>\n",
       "      <th>516</th>\n",
       "      <td>female</td>\n",
       "      <td>group E</td>\n",
       "      <td>bachelor's degree</td>\n",
       "      <td>standard</td>\n",
       "      <td>none</td>\n",
       "      <td>100</td>\n",
       "      <td>100</td>\n",
       "      <td>100</td>\n",
       "    </tr>\n",
       "    <tr>\n",
       "      <th>517</th>\n",
       "      <td>female</td>\n",
       "      <td>group E</td>\n",
       "      <td>associate's degree</td>\n",
       "      <td>standard</td>\n",
       "      <td>none</td>\n",
       "      <td>100</td>\n",
       "      <td>100</td>\n",
       "      <td>100</td>\n",
       "    </tr>\n",
       "    <tr>\n",
       "      <th>996</th>\n",
       "      <td>male</td>\n",
       "      <td>group A</td>\n",
       "      <td>some college</td>\n",
       "      <td>standard</td>\n",
       "      <td>completed</td>\n",
       "      <td>100</td>\n",
       "      <td>96</td>\n",
       "      <td>86</td>\n",
       "    </tr>\n",
       "    <tr>\n",
       "      <th>997</th>\n",
       "      <td>male</td>\n",
       "      <td>group D</td>\n",
       "      <td>some college</td>\n",
       "      <td>standard</td>\n",
       "      <td>completed</td>\n",
       "      <td>100</td>\n",
       "      <td>97</td>\n",
       "      <td>99</td>\n",
       "    </tr>\n",
       "    <tr>\n",
       "      <th>...</th>\n",
       "      <td>...</td>\n",
       "      <td>...</td>\n",
       "      <td>...</td>\n",
       "      <td>...</td>\n",
       "      <td>...</td>\n",
       "      <td>...</td>\n",
       "      <td>...</td>\n",
       "      <td>...</td>\n",
       "    </tr>\n",
       "    <tr>\n",
       "      <th>428</th>\n",
       "      <td>female</td>\n",
       "      <td>group D</td>\n",
       "      <td>some college</td>\n",
       "      <td>free/reduced</td>\n",
       "      <td>none</td>\n",
       "      <td>77</td>\n",
       "      <td>86</td>\n",
       "      <td>86</td>\n",
       "    </tr>\n",
       "    <tr>\n",
       "      <th>429</th>\n",
       "      <td>female</td>\n",
       "      <td>group E</td>\n",
       "      <td>some high school</td>\n",
       "      <td>standard</td>\n",
       "      <td>none</td>\n",
       "      <td>77</td>\n",
       "      <td>79</td>\n",
       "      <td>80</td>\n",
       "    </tr>\n",
       "    <tr>\n",
       "      <th>849</th>\n",
       "      <td>male</td>\n",
       "      <td>group A</td>\n",
       "      <td>bachelor's degree</td>\n",
       "      <td>standard</td>\n",
       "      <td>none</td>\n",
       "      <td>77</td>\n",
       "      <td>67</td>\n",
       "      <td>68</td>\n",
       "    </tr>\n",
       "    <tr>\n",
       "      <th>850</th>\n",
       "      <td>male</td>\n",
       "      <td>group C</td>\n",
       "      <td>associate's degree</td>\n",
       "      <td>free/reduced</td>\n",
       "      <td>none</td>\n",
       "      <td>77</td>\n",
       "      <td>67</td>\n",
       "      <td>64</td>\n",
       "    </tr>\n",
       "    <tr>\n",
       "      <th>851</th>\n",
       "      <td>male</td>\n",
       "      <td>group D</td>\n",
       "      <td>some college</td>\n",
       "      <td>standard</td>\n",
       "      <td>completed</td>\n",
       "      <td>77</td>\n",
       "      <td>62</td>\n",
       "      <td>62</td>\n",
       "    </tr>\n",
       "  </tbody>\n",
       "</table>\n",
       "<p>250 rows × 8 columns</p>\n",
       "</div>"
      ],
      "text/plain": [
       "     gender race/ethnicity parental level of education         lunch  \\\n",
       "515  female        group E                some college      standard   \n",
       "516  female        group E           bachelor's degree      standard   \n",
       "517  female        group E          associate's degree      standard   \n",
       "996    male        group A                some college      standard   \n",
       "997    male        group D                some college      standard   \n",
       "..      ...            ...                         ...           ...   \n",
       "428  female        group D                some college  free/reduced   \n",
       "429  female        group E            some high school      standard   \n",
       "849    male        group A           bachelor's degree      standard   \n",
       "850    male        group C          associate's degree  free/reduced   \n",
       "851    male        group D                some college      standard   \n",
       "\n",
       "    test preparation course  math score  reading score  writing score  \n",
       "515                    none         100             92             97  \n",
       "516                    none         100            100            100  \n",
       "517                    none         100            100            100  \n",
       "996               completed         100             96             86  \n",
       "997               completed         100             97             99  \n",
       "..                      ...         ...            ...            ...  \n",
       "428                    none          77             86             86  \n",
       "429                    none          77             79             80  \n",
       "849                    none          77             67             68  \n",
       "850                    none          77             67             64  \n",
       "851               completed          77             62             62  \n",
       "\n",
       "[250 rows x 8 columns]"
      ]
     },
     "execution_count": 11,
     "metadata": {},
      "source": [
    "***||students with more 77 mark will get bonus point||***\n"
   ]
     "output_type": "execute_result"
    }
   ],
   "source": [
    "data.nlargest(250, ['math score'])\n"
   ]
  },
  {
   "cell_type": "code",
   "execution_count": null,
   "id": "52222f88",
   "metadata": {},
   "outputs": [],
   "source": []
  }
 ],
 "metadata": {
  "kernelspec": {
   "display_name": "Python 3 (ipykernel)",
   "language": "python",
   "name": "python3"
  },
  "language_info": {
   "codemirror_mode": {
    "name": "ipython",
    "version": 3
   },
   "file_extension": ".py",
   "mimetype": "text/x-python",
   "name": "python",
   "nbconvert_exporter": "python",
   "pygments_lexer": "ipython3",
   "version": "3.9.12"
  }
 },
 "nbformat": 4,
 "nbformat_minor": 5
}
