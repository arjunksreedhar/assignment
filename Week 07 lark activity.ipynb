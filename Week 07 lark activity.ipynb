{
 "cells": [
  {
   "cell_type": "code",
   "execution_count": 17,
   "id": "d1cc7daa",
   "metadata": {},
   "outputs": [],
   "source": [
    "import numpy as np\n",
    "import pandas as pd\n",
    "import matplotlib.pyplot as plt\n",
    "import seaborn as sns\n",
    "from scipy.stats import ttest_ind\n"
   ]
  },
  {
   "cell_type": "code",
   "execution_count": 15,
   "id": "3a5ad4ff",
   "metadata": {},
   "outputs": [
    {
     "data": {
      "text/html": [
       "<div>\n",
       "<style scoped>\n",
       "    .dataframe tbody tr th:only-of-type {\n",
       "        vertical-align: middle;\n",
       "    }\n",
       "\n",
       "    .dataframe tbody tr th {\n",
       "        vertical-align: top;\n",
       "    }\n",
       "\n",
       "    .dataframe thead th {\n",
       "        text-align: right;\n",
       "    }\n",
       "</style>\n",
       "<table border=\"1\" class=\"dataframe\">\n",
       "  <thead>\n",
       "    <tr style=\"text-align: right;\">\n",
       "      <th></th>\n",
       "      <th>Gender</th>\n",
       "      <th>Test preparation</th>\n",
       "      <th>Total Marks</th>\n",
       "    </tr>\n",
       "  </thead>\n",
       "  <tbody>\n",
       "    <tr>\n",
       "      <th>0</th>\n",
       "      <td>male</td>\n",
       "      <td>none</td>\n",
       "      <td>14</td>\n",
       "    </tr>\n",
       "    <tr>\n",
       "      <th>1</th>\n",
       "      <td>female</td>\n",
       "      <td>none</td>\n",
       "      <td>28</td>\n",
       "    </tr>\n",
       "    <tr>\n",
       "      <th>2</th>\n",
       "      <td>female</td>\n",
       "      <td>none</td>\n",
       "      <td>18</td>\n",
       "    </tr>\n",
       "    <tr>\n",
       "      <th>3</th>\n",
       "      <td>female</td>\n",
       "      <td>none</td>\n",
       "      <td>48</td>\n",
       "    </tr>\n",
       "    <tr>\n",
       "      <th>4</th>\n",
       "      <td>female</td>\n",
       "      <td>none</td>\n",
       "      <td>21</td>\n",
       "    </tr>\n",
       "    <tr>\n",
       "      <th>5</th>\n",
       "      <td>female</td>\n",
       "      <td>completed</td>\n",
       "      <td>40</td>\n",
       "    </tr>\n",
       "    <tr>\n",
       "      <th>6</th>\n",
       "      <td>male</td>\n",
       "      <td>none</td>\n",
       "      <td>30</td>\n",
       "    </tr>\n",
       "    <tr>\n",
       "      <th>7</th>\n",
       "      <td>female</td>\n",
       "      <td>none</td>\n",
       "      <td>12</td>\n",
       "    </tr>\n",
       "    <tr>\n",
       "      <th>8</th>\n",
       "      <td>male</td>\n",
       "      <td>none</td>\n",
       "      <td>18</td>\n",
       "    </tr>\n",
       "    <tr>\n",
       "      <th>9</th>\n",
       "      <td>male</td>\n",
       "      <td>none</td>\n",
       "      <td>24</td>\n",
       "    </tr>\n",
       "    <tr>\n",
       "      <th>10</th>\n",
       "      <td>male</td>\n",
       "      <td>completed</td>\n",
       "      <td>44</td>\n",
       "    </tr>\n",
       "    <tr>\n",
       "      <th>11</th>\n",
       "      <td>male</td>\n",
       "      <td>none</td>\n",
       "      <td>23</td>\n",
       "    </tr>\n",
       "    <tr>\n",
       "      <th>12</th>\n",
       "      <td>male</td>\n",
       "      <td>completed</td>\n",
       "      <td>43</td>\n",
       "    </tr>\n",
       "    <tr>\n",
       "      <th>13</th>\n",
       "      <td>male</td>\n",
       "      <td>none</td>\n",
       "      <td>28</td>\n",
       "    </tr>\n",
       "    <tr>\n",
       "      <th>14</th>\n",
       "      <td>female</td>\n",
       "      <td>none</td>\n",
       "      <td>41</td>\n",
       "    </tr>\n",
       "    <tr>\n",
       "      <th>15</th>\n",
       "      <td>female</td>\n",
       "      <td>none</td>\n",
       "      <td>13</td>\n",
       "    </tr>\n",
       "    <tr>\n",
       "      <th>16</th>\n",
       "      <td>female</td>\n",
       "      <td>completed</td>\n",
       "      <td>48</td>\n",
       "    </tr>\n",
       "    <tr>\n",
       "      <th>17</th>\n",
       "      <td>female</td>\n",
       "      <td>none</td>\n",
       "      <td>45</td>\n",
       "    </tr>\n",
       "    <tr>\n",
       "      <th>18</th>\n",
       "      <td>male</td>\n",
       "      <td>none</td>\n",
       "      <td>47</td>\n",
       "    </tr>\n",
       "    <tr>\n",
       "      <th>19</th>\n",
       "      <td>male</td>\n",
       "      <td>none</td>\n",
       "      <td>36</td>\n",
       "    </tr>\n",
       "    <tr>\n",
       "      <th>20</th>\n",
       "      <td>male</td>\n",
       "      <td>none</td>\n",
       "      <td>14</td>\n",
       "    </tr>\n",
       "    <tr>\n",
       "      <th>21</th>\n",
       "      <td>male</td>\n",
       "      <td>completed</td>\n",
       "      <td>44</td>\n",
       "    </tr>\n",
       "    <tr>\n",
       "      <th>22</th>\n",
       "      <td>female</td>\n",
       "      <td>none</td>\n",
       "      <td>41</td>\n",
       "    </tr>\n",
       "    <tr>\n",
       "      <th>23</th>\n",
       "      <td>female</td>\n",
       "      <td>none</td>\n",
       "      <td>27</td>\n",
       "    </tr>\n",
       "    <tr>\n",
       "      <th>24</th>\n",
       "      <td>female</td>\n",
       "      <td>none</td>\n",
       "      <td>27</td>\n",
       "    </tr>\n",
       "    <tr>\n",
       "      <th>25</th>\n",
       "      <td>female</td>\n",
       "      <td>none</td>\n",
       "      <td>38</td>\n",
       "    </tr>\n",
       "    <tr>\n",
       "      <th>26</th>\n",
       "      <td>female</td>\n",
       "      <td>completed</td>\n",
       "      <td>50</td>\n",
       "    </tr>\n",
       "    <tr>\n",
       "      <th>27</th>\n",
       "      <td>female</td>\n",
       "      <td>completed</td>\n",
       "      <td>43</td>\n",
       "    </tr>\n",
       "  </tbody>\n",
       "</table>\n",
       "</div>"
      ],
      "text/plain": [
       "    Gender Test preparation  Total Marks\n",
       "0     male             none           14\n",
       "1   female             none           28\n",
       "2   female             none           18\n",
       "3   female             none           48\n",
       "4   female             none           21\n",
       "5   female        completed           40\n",
       "6     male             none           30\n",
       "7   female             none           12\n",
       "8     male             none           18\n",
       "9     male             none           24\n",
       "10    male        completed           44\n",
       "11    male             none           23\n",
       "12    male        completed           43\n",
       "13    male             none           28\n",
       "14  female             none           41\n",
       "15  female             none           13\n",
       "16  female        completed           48\n",
       "17  female             none           45\n",
       "18    male             none           47\n",
       "19    male             none           36\n",
       "20    male             none           14\n",
       "21    male        completed           44\n",
       "22  female             none           41\n",
       "23  female             none           27\n",
       "24  female             none           27\n",
       "25  female             none           38\n",
       "26  female        completed           50\n",
       "27  female        completed           43"
      ]
     },
     "execution_count": 15,
     "metadata": {},
     "output_type": "execute_result"
    }
   ],
   "source": [
    "data=pd.read_csv(\"dataset w7 (1).csv\")\n",
    "data"
   ]
  },
  {
   "cell_type": "markdown",
   "id": "69559961",
   "metadata": {},
   "source": [
    "## 1. Carry out descriptive analytics on the dataset."
   ]
  },
  {
   "cell_type": "code",
   "execution_count": 3,
   "id": "5a5e87f0",
   "metadata": {},
   "outputs": [
    {
     "data": {
      "text/plain": [
       "Gender              0\n",
       "Test preparation    0\n",
       "Total Marks         0\n",
       "dtype: int64"
      ]
     },
     "execution_count": 3,
     "metadata": {},
     "output_type": "execute_result"
    }
   ],
   "source": [
    "#Find Null\n",
    "data.isnull().sum()"
   ]
  },
  {
   "cell_type": "code",
   "execution_count": 4,
   "id": "7c470cbc",
   "metadata": {},
   "outputs": [
    {
     "name": "stdout",
     "output_type": "stream",
     "text": [
      "Mean of the total marks 32.32142857142857\n"
     ]
    }
   ],
   "source": [
    "#Mean\n",
    "mean=data['Total Marks'].mean()\n",
    "print(\"Mean of the total marks\",mean)"
   ]
  },
  {
   "cell_type": "code",
   "execution_count": 5,
   "id": "e9500dc1",
   "metadata": {},
   "outputs": [
    {
     "name": "stdout",
     "output_type": "stream",
     "text": [
      "SD of Total Marks is:  12.454520438984368\n"
     ]
    }
   ],
   "source": [
    "#Standard deviation\n",
    "sd=data[\"Total Marks\"].std()\n",
    "print(\"SD of Total Marks is: \",sd)"
   ]
  },
  {
   "cell_type": "code",
   "execution_count": 27,
   "id": "b77a87e7",
   "metadata": {},
   "outputs": [
    {
     "data": {
      "text/html": [
       "<div>\n",
       "<style scoped>\n",
       "    .dataframe tbody tr th:only-of-type {\n",
       "        vertical-align: middle;\n",
       "    }\n",
       "\n",
       "    .dataframe tbody tr th {\n",
       "        vertical-align: top;\n",
       "    }\n",
       "\n",
       "    .dataframe thead th {\n",
       "        text-align: right;\n",
       "    }\n",
       "</style>\n",
       "<table border=\"1\" class=\"dataframe\">\n",
       "  <thead>\n",
       "    <tr style=\"text-align: right;\">\n",
       "      <th></th>\n",
       "      <th>Total Marks</th>\n",
       "    </tr>\n",
       "  </thead>\n",
       "  <tbody>\n",
       "    <tr>\n",
       "      <th>count</th>\n",
       "      <td>28.000000</td>\n",
       "    </tr>\n",
       "    <tr>\n",
       "      <th>mean</th>\n",
       "      <td>32.321429</td>\n",
       "    </tr>\n",
       "    <tr>\n",
       "      <th>std</th>\n",
       "      <td>12.454520</td>\n",
       "    </tr>\n",
       "    <tr>\n",
       "      <th>min</th>\n",
       "      <td>12.000000</td>\n",
       "    </tr>\n",
       "    <tr>\n",
       "      <th>25%</th>\n",
       "      <td>22.500000</td>\n",
       "    </tr>\n",
       "    <tr>\n",
       "      <th>50%</th>\n",
       "      <td>33.000000</td>\n",
       "    </tr>\n",
       "    <tr>\n",
       "      <th>75%</th>\n",
       "      <td>43.250000</td>\n",
       "    </tr>\n",
       "    <tr>\n",
       "      <th>max</th>\n",
       "      <td>50.000000</td>\n",
       "    </tr>\n",
       "  </tbody>\n",
       "</table>\n",
       "</div>"
      ],
      "text/plain": [
       "       Total Marks\n",
       "count    28.000000\n",
       "mean     32.321429\n",
       "std      12.454520\n",
       "min      12.000000\n",
       "25%      22.500000\n",
       "50%      33.000000\n",
       "75%      43.250000\n",
       "max      50.000000"
      ]
     },
     "execution_count": 27,
     "metadata": {},
     "output_type": "execute_result"
    }
   ],
   "source": [
    "data.describe()"
   ]
  },
  {
   "cell_type": "markdown",
   "id": "c5b90b1f",
   "metadata": {},
   "source": [
    "## 2. Check whether female and male students scored the same marks.\n"
   ]
  },
  {
   "cell_type": "code",
   "execution_count": 6,
   "id": "0b458f4d",
   "metadata": {},
   "outputs": [],
   "source": [
    "#H0:Male and female students doesn't score same marks\n",
    "#H1:Male and female students score same marks"
   ]
  },
  {
   "cell_type": "code",
   "execution_count": 25,
   "id": "9ff75a80",
   "metadata": {},
   "outputs": [
    {
     "name": "stdout",
     "output_type": "stream",
     "text": [
      "The test result is: [0.69408853] [0.49378223]\n"
     ]
    }
   ],
   "source": [
    "alpha=.05\n",
    "dm=data[data[\"Gender\"]==\"male\"][[\"Total Marks\"]]\n",
    "df=data[data[\"Gender\"]==\"female\"][[\"Total Marks\"]]\n",
    "t_score,p_value=ttest_ind(df,dm)\n",
    "print('The test result is:', t_score, p_value)\n"
   ]
  },
  {
   "cell_type": "code",
   "execution_count": 19,
   "id": "75d9e02c",
   "metadata": {},
   "outputs": [
    {
     "name": "stdout",
     "output_type": "stream",
     "text": [
      "Failing to Reject Null Hypothesis\n"
     ]
    }
   ],
   "source": [
    "if (p_value>alpha):\n",
    "   print(\"Failing to Reject Null Hypothesis\")\n",
    "else:\n",
    "   print(\"Rejecting Null Hypothesis\")\n",
    "    "
   ]
  },
  {
   "cell_type": "code",
   "execution_count": 9,
   "id": "c1e68954",
   "metadata": {},
   "outputs": [],
   "source": [
    "#Based on the testing carried out on the data that is given we are failing to reject the null hypothesis.\n"
   ]
  },
  {
   "cell_type": "code",
   "execution_count": 10,
   "id": "df984838",
   "metadata": {},
   "outputs": [],
   "source": [
    "#I conclude Male and female doesn't score same marks"
   ]
  },
  {
   "cell_type": "markdown",
   "id": "88c5f153",
   "metadata": {},
   "source": [
    "## 3. Whether test preparation helps the students?"
   ]
  },
  {
   "cell_type": "code",
   "execution_count": 11,
   "id": "843b5b43",
   "metadata": {},
   "outputs": [],
   "source": [
    "#H0:Test preparation did not help the students\n",
    "#H1:Test preparation helped the students"
   ]
  },
  {
   "cell_type": "code",
   "execution_count": 26,
   "id": "cc7cd931",
   "metadata": {},
   "outputs": [
    {
     "name": "stdout",
     "output_type": "stream",
     "text": [
      "The test result is: [3.61436375] [0.00126713]\n",
      "Rejeting Null Hypothesis\n"
     ]
    }
   ],
   "source": [
    "tc=data[data[\"Test preparation\"]==\"completed\"][[\"Total Marks\"]]\n",
    "tn=data[data[\"Test preparation\"]==\"none\"][[\"Total Marks\"]]\n",
    "t_score,p_value=ttest_ind(tc,tn)\n",
    "print('The test result is:', t_score, p_value)\n",
    "if (p_value>alpha):\n",
    "    print(\"Failing to reject the Null Hypothesis\")\n",
    "else:\n",
    "    print(\"Rejeting Null Hypothesis\")"
   ]
  },
  {
   "cell_type": "code",
   "execution_count": 13,
   "id": "8d18483d",
   "metadata": {},
   "outputs": [],
   "source": [
    "#Based on the testing carried out on the data that is given we are rejecting the null hypothesis.\n"
   ]
  },
  {
   "cell_type": "code",
   "execution_count": 21,
   "id": "4e0440ce",
   "metadata": {},
   "outputs": [],
   "source": [
    "#I conclude Test preparation helped the students"
   ]
  },
  {
   "cell_type": "code",
   "execution_count": null,
   "id": "7f996326",
   "metadata": {},
   "outputs": [],
   "source": []
  }
 ],
 "metadata": {
  "kernelspec": {
   "display_name": "Python 3 (ipykernel)",
   "language": "python",
   "name": "python3"
  },
  "language_info": {
   "codemirror_mode": {
    "name": "ipython",
    "version": 3
   },
   "file_extension": ".py",
   "mimetype": "text/x-python",
   "name": "python",
   "nbconvert_exporter": "python",
   "pygments_lexer": "ipython3",
   "version": "3.9.12"
  }
 },
 "nbformat": 4,
 "nbformat_minor": 5
}
