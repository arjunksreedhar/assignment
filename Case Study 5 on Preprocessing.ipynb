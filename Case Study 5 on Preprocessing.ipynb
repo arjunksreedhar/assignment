{
 "cells": [
  {
   "cell_type": "code",
   "execution_count": 1,
   "id": "a9540311",
   "metadata": {},
   "outputs": [],
   "source": [
    "import numpy as np\n",
    "import pandas as pd\n",
    "import matplotlib.pyplot as plt\n",
    "import seaborn as sns"
   ]
  },
  {
   "cell_type": "code",
   "execution_count": 2,
   "id": "dac53ea5",
   "metadata": {},
   "outputs": [],
   "source": [
    "import warnings\n",
    "warnings.filterwarnings('ignore')"
   ]
  },
  {
   "cell_type": "markdown",
   "id": "aae1ce74",
   "metadata": {},
   "source": [
    "### 1. Load the dataset into python environment\n"
   ]
  },
  {
   "cell_type": "code",
   "execution_count": 3,
   "id": "42ac066d",
   "metadata": {},
   "outputs": [
    {
     "data": {
      "text/html": [
       "<div>\n",
       "<style scoped>\n",
       "    .dataframe tbody tr th:only-of-type {\n",
       "        vertical-align: middle;\n",
       "    }\n",
       "\n",
       "    .dataframe tbody tr th {\n",
       "        vertical-align: top;\n",
       "    }\n",
       "\n",
       "    .dataframe thead th {\n",
       "        text-align: right;\n",
       "    }\n",
       "</style>\n",
       "<table border=\"1\" class=\"dataframe\">\n",
       "  <thead>\n",
       "    <tr style=\"text-align: right;\">\n",
       "      <th></th>\n",
       "      <th>PassengerId</th>\n",
       "      <th>Survived</th>\n",
       "      <th>Pclass</th>\n",
       "      <th>Name</th>\n",
       "      <th>Sex</th>\n",
       "      <th>Age</th>\n",
       "      <th>SibSp</th>\n",
       "      <th>Parch</th>\n",
       "      <th>Ticket</th>\n",
       "      <th>Fare</th>\n",
       "      <th>Cabin</th>\n",
       "      <th>Embarked</th>\n",
       "    </tr>\n",
       "  </thead>\n",
       "  <tbody>\n",
       "    <tr>\n",
       "      <th>0</th>\n",
       "      <td>1</td>\n",
       "      <td>0</td>\n",
       "      <td>3</td>\n",
       "      <td>Braund, Mr. Owen Harris</td>\n",
       "      <td>male</td>\n",
       "      <td>22.0</td>\n",
       "      <td>1</td>\n",
       "      <td>0</td>\n",
       "      <td>A/5 21171</td>\n",
       "      <td>7.2500</td>\n",
       "      <td>NaN</td>\n",
       "      <td>S</td>\n",
       "    </tr>\n",
       "    <tr>\n",
       "      <th>1</th>\n",
       "      <td>2</td>\n",
       "      <td>1</td>\n",
       "      <td>1</td>\n",
       "      <td>Cumings, Mrs. John Bradley (Florence Briggs Th...</td>\n",
       "      <td>female</td>\n",
       "      <td>38.0</td>\n",
       "      <td>1</td>\n",
       "      <td>0</td>\n",
       "      <td>PC 17599</td>\n",
       "      <td>71.2833</td>\n",
       "      <td>C85</td>\n",
       "      <td>C</td>\n",
       "    </tr>\n",
       "    <tr>\n",
       "      <th>2</th>\n",
       "      <td>3</td>\n",
       "      <td>1</td>\n",
       "      <td>3</td>\n",
       "      <td>Heikkinen, Miss. Laina</td>\n",
       "      <td>female</td>\n",
       "      <td>26.0</td>\n",
       "      <td>0</td>\n",
       "      <td>0</td>\n",
       "      <td>STON/O2. 3101282</td>\n",
       "      <td>7.9250</td>\n",
       "      <td>NaN</td>\n",
       "      <td>S</td>\n",
       "    </tr>\n",
       "    <tr>\n",
       "      <th>3</th>\n",
       "      <td>4</td>\n",
       "      <td>1</td>\n",
       "      <td>1</td>\n",
       "      <td>Futrelle, Mrs. Jacques Heath (Lily May Peel)</td>\n",
       "      <td>female</td>\n",
       "      <td>35.0</td>\n",
       "      <td>1</td>\n",
       "      <td>0</td>\n",
       "      <td>113803</td>\n",
       "      <td>53.1000</td>\n",
       "      <td>C123</td>\n",
       "      <td>S</td>\n",
       "    </tr>\n",
       "    <tr>\n",
       "      <th>4</th>\n",
       "      <td>5</td>\n",
       "      <td>0</td>\n",
       "      <td>3</td>\n",
       "      <td>Allen, Mr. William Henry</td>\n",
       "      <td>male</td>\n",
       "      <td>35.0</td>\n",
       "      <td>0</td>\n",
       "      <td>0</td>\n",
       "      <td>373450</td>\n",
       "      <td>8.0500</td>\n",
       "      <td>NaN</td>\n",
       "      <td>S</td>\n",
       "    </tr>\n",
       "    <tr>\n",
       "      <th>...</th>\n",
       "      <td>...</td>\n",
       "      <td>...</td>\n",
       "      <td>...</td>\n",
       "      <td>...</td>\n",
       "      <td>...</td>\n",
       "      <td>...</td>\n",
       "      <td>...</td>\n",
       "      <td>...</td>\n",
       "      <td>...</td>\n",
       "      <td>...</td>\n",
       "      <td>...</td>\n",
       "      <td>...</td>\n",
       "    </tr>\n",
       "    <tr>\n",
       "      <th>886</th>\n",
       "      <td>887</td>\n",
       "      <td>0</td>\n",
       "      <td>2</td>\n",
       "      <td>Montvila, Rev. Juozas</td>\n",
       "      <td>male</td>\n",
       "      <td>27.0</td>\n",
       "      <td>0</td>\n",
       "      <td>0</td>\n",
       "      <td>211536</td>\n",
       "      <td>13.0000</td>\n",
       "      <td>NaN</td>\n",
       "      <td>S</td>\n",
       "    </tr>\n",
       "    <tr>\n",
       "      <th>887</th>\n",
       "      <td>888</td>\n",
       "      <td>1</td>\n",
       "      <td>1</td>\n",
       "      <td>Graham, Miss. Margaret Edith</td>\n",
       "      <td>female</td>\n",
       "      <td>19.0</td>\n",
       "      <td>0</td>\n",
       "      <td>0</td>\n",
       "      <td>112053</td>\n",
       "      <td>30.0000</td>\n",
       "      <td>B42</td>\n",
       "      <td>S</td>\n",
       "    </tr>\n",
       "    <tr>\n",
       "      <th>888</th>\n",
       "      <td>889</td>\n",
       "      <td>0</td>\n",
       "      <td>3</td>\n",
       "      <td>Johnston, Miss. Catherine Helen \"Carrie\"</td>\n",
       "      <td>female</td>\n",
       "      <td>NaN</td>\n",
       "      <td>1</td>\n",
       "      <td>2</td>\n",
       "      <td>W./C. 6607</td>\n",
       "      <td>23.4500</td>\n",
       "      <td>NaN</td>\n",
       "      <td>S</td>\n",
       "    </tr>\n",
       "    <tr>\n",
       "      <th>889</th>\n",
       "      <td>890</td>\n",
       "      <td>1</td>\n",
       "      <td>1</td>\n",
       "      <td>Behr, Mr. Karl Howell</td>\n",
       "      <td>male</td>\n",
       "      <td>26.0</td>\n",
       "      <td>0</td>\n",
       "      <td>0</td>\n",
       "      <td>111369</td>\n",
       "      <td>30.0000</td>\n",
       "      <td>C148</td>\n",
       "      <td>C</td>\n",
       "    </tr>\n",
       "    <tr>\n",
       "      <th>890</th>\n",
       "      <td>891</td>\n",
       "      <td>0</td>\n",
       "      <td>3</td>\n",
       "      <td>Dooley, Mr. Patrick</td>\n",
       "      <td>male</td>\n",
       "      <td>32.0</td>\n",
       "      <td>0</td>\n",
       "      <td>0</td>\n",
       "      <td>370376</td>\n",
       "      <td>7.7500</td>\n",
       "      <td>NaN</td>\n",
       "      <td>Q</td>\n",
       "    </tr>\n",
       "  </tbody>\n",
       "</table>\n",
       "<p>891 rows × 12 columns</p>\n",
       "</div>"
      ],
      "text/plain": [
       "     PassengerId  Survived  Pclass  \\\n",
       "0              1         0       3   \n",
       "1              2         1       1   \n",
       "2              3         1       3   \n",
       "3              4         1       1   \n",
       "4              5         0       3   \n",
       "..           ...       ...     ...   \n",
       "886          887         0       2   \n",
       "887          888         1       1   \n",
       "888          889         0       3   \n",
       "889          890         1       1   \n",
       "890          891         0       3   \n",
       "\n",
       "                                                  Name     Sex   Age  SibSp  \\\n",
       "0                              Braund, Mr. Owen Harris    male  22.0      1   \n",
       "1    Cumings, Mrs. John Bradley (Florence Briggs Th...  female  38.0      1   \n",
       "2                               Heikkinen, Miss. Laina  female  26.0      0   \n",
       "3         Futrelle, Mrs. Jacques Heath (Lily May Peel)  female  35.0      1   \n",
       "4                             Allen, Mr. William Henry    male  35.0      0   \n",
       "..                                                 ...     ...   ...    ...   \n",
       "886                              Montvila, Rev. Juozas    male  27.0      0   \n",
       "887                       Graham, Miss. Margaret Edith  female  19.0      0   \n",
       "888           Johnston, Miss. Catherine Helen \"Carrie\"  female   NaN      1   \n",
       "889                              Behr, Mr. Karl Howell    male  26.0      0   \n",
       "890                                Dooley, Mr. Patrick    male  32.0      0   \n",
       "\n",
       "     Parch            Ticket     Fare Cabin Embarked  \n",
       "0        0         A/5 21171   7.2500   NaN        S  \n",
       "1        0          PC 17599  71.2833   C85        C  \n",
       "2        0  STON/O2. 3101282   7.9250   NaN        S  \n",
       "3        0            113803  53.1000  C123        S  \n",
       "4        0            373450   8.0500   NaN        S  \n",
       "..     ...               ...      ...   ...      ...  \n",
       "886      0            211536  13.0000   NaN        S  \n",
       "887      0            112053  30.0000   B42        S  \n",
       "888      2        W./C. 6607  23.4500   NaN        S  \n",
       "889      0            111369  30.0000  C148        C  \n",
       "890      0            370376   7.7500   NaN        Q  \n",
       "\n",
       "[891 rows x 12 columns]"
      ]
     },
     "execution_count": 3,
     "metadata": {},
     "output_type": "execute_result"
    }
   ],
   "source": [
    "data=pd.read_csv(\"titanic_dataset.csv\")\n",
    "data"
   ]
  },
  {
   "cell_type": "markdown",
   "id": "aae0aa22",
   "metadata": {},
   "source": [
    "### 2. Make ‘PassengerId’ as the index column\n"
   ]
  },
  {
   "cell_type": "code",
   "execution_count": 4,
   "id": "0f740945",
   "metadata": {},
   "outputs": [],
   "source": [
    "data.set_index('PassengerId', inplace=True)"
   ]
  },
  {
   "cell_type": "code",
   "execution_count": 5,
   "id": "72e19e34",
   "metadata": {},
   "outputs": [
    {
     "data": {
      "text/html": [
       "<div>\n",
       "<style scoped>\n",
       "    .dataframe tbody tr th:only-of-type {\n",
       "        vertical-align: middle;\n",
       "    }\n",
       "\n",
       "    .dataframe tbody tr th {\n",
       "        vertical-align: top;\n",
       "    }\n",
       "\n",
       "    .dataframe thead th {\n",
       "        text-align: right;\n",
       "    }\n",
       "</style>\n",
       "<table border=\"1\" class=\"dataframe\">\n",
       "  <thead>\n",
       "    <tr style=\"text-align: right;\">\n",
       "      <th></th>\n",
       "      <th>Survived</th>\n",
       "      <th>Pclass</th>\n",
       "      <th>Name</th>\n",
       "      <th>Sex</th>\n",
       "      <th>Age</th>\n",
       "      <th>SibSp</th>\n",
       "      <th>Parch</th>\n",
       "      <th>Ticket</th>\n",
       "      <th>Fare</th>\n",
       "      <th>Cabin</th>\n",
       "      <th>Embarked</th>\n",
       "    </tr>\n",
       "    <tr>\n",
       "      <th>PassengerId</th>\n",
       "      <th></th>\n",
       "      <th></th>\n",
       "      <th></th>\n",
       "      <th></th>\n",
       "      <th></th>\n",
       "      <th></th>\n",
       "      <th></th>\n",
       "      <th></th>\n",
       "      <th></th>\n",
       "      <th></th>\n",
       "      <th></th>\n",
       "    </tr>\n",
       "  </thead>\n",
       "  <tbody>\n",
       "    <tr>\n",
       "      <th>1</th>\n",
       "      <td>0</td>\n",
       "      <td>3</td>\n",
       "      <td>Braund, Mr. Owen Harris</td>\n",
       "      <td>male</td>\n",
       "      <td>22.0</td>\n",
       "      <td>1</td>\n",
       "      <td>0</td>\n",
       "      <td>A/5 21171</td>\n",
       "      <td>7.2500</td>\n",
       "      <td>NaN</td>\n",
       "      <td>S</td>\n",
       "    </tr>\n",
       "    <tr>\n",
       "      <th>2</th>\n",
       "      <td>1</td>\n",
       "      <td>1</td>\n",
       "      <td>Cumings, Mrs. John Bradley (Florence Briggs Th...</td>\n",
       "      <td>female</td>\n",
       "      <td>38.0</td>\n",
       "      <td>1</td>\n",
       "      <td>0</td>\n",
       "      <td>PC 17599</td>\n",
       "      <td>71.2833</td>\n",
       "      <td>C85</td>\n",
       "      <td>C</td>\n",
       "    </tr>\n",
       "    <tr>\n",
       "      <th>3</th>\n",
       "      <td>1</td>\n",
       "      <td>3</td>\n",
       "      <td>Heikkinen, Miss. Laina</td>\n",
       "      <td>female</td>\n",
       "      <td>26.0</td>\n",
       "      <td>0</td>\n",
       "      <td>0</td>\n",
       "      <td>STON/O2. 3101282</td>\n",
       "      <td>7.9250</td>\n",
       "      <td>NaN</td>\n",
       "      <td>S</td>\n",
       "    </tr>\n",
       "    <tr>\n",
       "      <th>4</th>\n",
       "      <td>1</td>\n",
       "      <td>1</td>\n",
       "      <td>Futrelle, Mrs. Jacques Heath (Lily May Peel)</td>\n",
       "      <td>female</td>\n",
       "      <td>35.0</td>\n",
       "      <td>1</td>\n",
       "      <td>0</td>\n",
       "      <td>113803</td>\n",
       "      <td>53.1000</td>\n",
       "      <td>C123</td>\n",
       "      <td>S</td>\n",
       "    </tr>\n",
       "    <tr>\n",
       "      <th>5</th>\n",
       "      <td>0</td>\n",
       "      <td>3</td>\n",
       "      <td>Allen, Mr. William Henry</td>\n",
       "      <td>male</td>\n",
       "      <td>35.0</td>\n",
       "      <td>0</td>\n",
       "      <td>0</td>\n",
       "      <td>373450</td>\n",
       "      <td>8.0500</td>\n",
       "      <td>NaN</td>\n",
       "      <td>S</td>\n",
       "    </tr>\n",
       "    <tr>\n",
       "      <th>...</th>\n",
       "      <td>...</td>\n",
       "      <td>...</td>\n",
       "      <td>...</td>\n",
       "      <td>...</td>\n",
       "      <td>...</td>\n",
       "      <td>...</td>\n",
       "      <td>...</td>\n",
       "      <td>...</td>\n",
       "      <td>...</td>\n",
       "      <td>...</td>\n",
       "      <td>...</td>\n",
       "    </tr>\n",
       "    <tr>\n",
       "      <th>887</th>\n",
       "      <td>0</td>\n",
       "      <td>2</td>\n",
       "      <td>Montvila, Rev. Juozas</td>\n",
       "      <td>male</td>\n",
       "      <td>27.0</td>\n",
       "      <td>0</td>\n",
       "      <td>0</td>\n",
       "      <td>211536</td>\n",
       "      <td>13.0000</td>\n",
       "      <td>NaN</td>\n",
       "      <td>S</td>\n",
       "    </tr>\n",
       "    <tr>\n",
       "      <th>888</th>\n",
       "      <td>1</td>\n",
       "      <td>1</td>\n",
       "      <td>Graham, Miss. Margaret Edith</td>\n",
       "      <td>female</td>\n",
       "      <td>19.0</td>\n",
       "      <td>0</td>\n",
       "      <td>0</td>\n",
       "      <td>112053</td>\n",
       "      <td>30.0000</td>\n",
       "      <td>B42</td>\n",
       "      <td>S</td>\n",
       "    </tr>\n",
       "    <tr>\n",
       "      <th>889</th>\n",
       "      <td>0</td>\n",
       "      <td>3</td>\n",
       "      <td>Johnston, Miss. Catherine Helen \"Carrie\"</td>\n",
       "      <td>female</td>\n",
       "      <td>NaN</td>\n",
       "      <td>1</td>\n",
       "      <td>2</td>\n",
       "      <td>W./C. 6607</td>\n",
       "      <td>23.4500</td>\n",
       "      <td>NaN</td>\n",
       "      <td>S</td>\n",
       "    </tr>\n",
       "    <tr>\n",
       "      <th>890</th>\n",
       "      <td>1</td>\n",
       "      <td>1</td>\n",
       "      <td>Behr, Mr. Karl Howell</td>\n",
       "      <td>male</td>\n",
       "      <td>26.0</td>\n",
       "      <td>0</td>\n",
       "      <td>0</td>\n",
       "      <td>111369</td>\n",
       "      <td>30.0000</td>\n",
       "      <td>C148</td>\n",
       "      <td>C</td>\n",
       "    </tr>\n",
       "    <tr>\n",
       "      <th>891</th>\n",
       "      <td>0</td>\n",
       "      <td>3</td>\n",
       "      <td>Dooley, Mr. Patrick</td>\n",
       "      <td>male</td>\n",
       "      <td>32.0</td>\n",
       "      <td>0</td>\n",
       "      <td>0</td>\n",
       "      <td>370376</td>\n",
       "      <td>7.7500</td>\n",
       "      <td>NaN</td>\n",
       "      <td>Q</td>\n",
       "    </tr>\n",
       "  </tbody>\n",
       "</table>\n",
       "<p>891 rows × 11 columns</p>\n",
       "</div>"
      ],
      "text/plain": [
       "             Survived  Pclass  \\\n",
       "PassengerId                     \n",
       "1                   0       3   \n",
       "2                   1       1   \n",
       "3                   1       3   \n",
       "4                   1       1   \n",
       "5                   0       3   \n",
       "...               ...     ...   \n",
       "887                 0       2   \n",
       "888                 1       1   \n",
       "889                 0       3   \n",
       "890                 1       1   \n",
       "891                 0       3   \n",
       "\n",
       "                                                          Name     Sex   Age  \\\n",
       "PassengerId                                                                    \n",
       "1                                      Braund, Mr. Owen Harris    male  22.0   \n",
       "2            Cumings, Mrs. John Bradley (Florence Briggs Th...  female  38.0   \n",
       "3                                       Heikkinen, Miss. Laina  female  26.0   \n",
       "4                 Futrelle, Mrs. Jacques Heath (Lily May Peel)  female  35.0   \n",
       "5                                     Allen, Mr. William Henry    male  35.0   \n",
       "...                                                        ...     ...   ...   \n",
       "887                                      Montvila, Rev. Juozas    male  27.0   \n",
       "888                               Graham, Miss. Margaret Edith  female  19.0   \n",
       "889                   Johnston, Miss. Catherine Helen \"Carrie\"  female   NaN   \n",
       "890                                      Behr, Mr. Karl Howell    male  26.0   \n",
       "891                                        Dooley, Mr. Patrick    male  32.0   \n",
       "\n",
       "             SibSp  Parch            Ticket     Fare Cabin Embarked  \n",
       "PassengerId                                                          \n",
       "1                1      0         A/5 21171   7.2500   NaN        S  \n",
       "2                1      0          PC 17599  71.2833   C85        C  \n",
       "3                0      0  STON/O2. 3101282   7.9250   NaN        S  \n",
       "4                1      0            113803  53.1000  C123        S  \n",
       "5                0      0            373450   8.0500   NaN        S  \n",
       "...            ...    ...               ...      ...   ...      ...  \n",
       "887              0      0            211536  13.0000   NaN        S  \n",
       "888              0      0            112053  30.0000   B42        S  \n",
       "889              1      2        W./C. 6607  23.4500   NaN        S  \n",
       "890              0      0            111369  30.0000  C148        C  \n",
       "891              0      0            370376   7.7500   NaN        Q  \n",
       "\n",
       "[891 rows x 11 columns]"
      ]
     },
     "execution_count": 5,
     "metadata": {},
     "output_type": "execute_result"
    }
   ],
   "source": [
    "data"
   ]
  },
  {
   "cell_type": "markdown",
   "id": "5479d07c",
   "metadata": {},
   "source": [
    "**Here the passengerid has become the index value**"
   ]
  },
  {
   "cell_type": "code",
   "execution_count": 6,
   "id": "a4339790",
   "metadata": {},
   "outputs": [
    {
     "data": {
      "text/plain": [
       "Survived      0\n",
       "Pclass        0\n",
       "Name          0\n",
       "Sex           0\n",
       "Age         177\n",
       "SibSp         0\n",
       "Parch         0\n",
       "Ticket        0\n",
       "Fare          0\n",
       "Cabin       687\n",
       "Embarked      2\n",
       "dtype: int64"
      ]
     },
     "execution_count": 6,
     "metadata": {},
     "output_type": "execute_result"
    }
   ],
   "source": [
    "data.isnull().sum()"
   ]
  },
  {
   "cell_type": "markdown",
   "id": "08adb2fa",
   "metadata": {},
   "source": [
    "There are null values in the dataset in Age,Cabin,Embarked columns"
   ]
  },
  {
   "cell_type": "markdown",
   "id": "6bcb9ba8",
   "metadata": {},
   "source": [
    "### 3. Check the basic details of the dataset\n"
   ]
  },
  {
   "cell_type": "code",
   "execution_count": 7,
   "id": "12b8602b",
   "metadata": {},
   "outputs": [
    {
     "data": {
      "image/png": "[encoded data removed]",
      "text/plain": [
       "<Figure size 720x576 with 1 Axes>"
      ]
     },
     "metadata": {
      "needs_background": "light"
     },
     "output_type": "display_data"
    }
   ],
   "source": [
    "plt.figure(figsize=(10,8))\n",
    "ax=sns.countplot(x='Sex',hue=\"Sex\",data=data,palette='dark:salmon_r')\n",
    "for p in ax.patches:\n",
    "   ax.annotate('{:.1f}'.format(p.get_height()), (p.get_x()+0.25, p.get_height()+0.01))"
   ]
  },
  {
   "cell_type": "markdown",
   "id": "8422d889",
   "metadata": {},
   "source": [
    "**Male passengers are more as compared to female passengers**"
   ]
  },
  {
   "cell_type": "code",
   "execution_count": 8,
   "id": "cd67d599",
   "metadata": {},
   "outputs": [
    {
     "data": {
      "image/png": "[encoded data removed]",
      "text/plain": [
       "<Figure size 720x576 with 1 Axes>"
      ]
     },
     "metadata": {
      "needs_background": "light"
     },
     "output_type": "display_data"
    }
   ],
   "source": [
    "plt.figure(figsize=(10,8))\n",
    "ax=sns.countplot(x='Survived',hue='Sex',data=data,palette='cubehelix')\n",
    "for p in ax.patches:\n",
    "   ax.annotate('{:.1f}'.format(p.get_height()), (p.get_x()+0.25, p.get_height()+0.01))"
   ]
  },
  {
   "cell_type": "markdown",
   "id": "b5ec7715",
   "metadata": {},
   "source": [
    "**Eventhough the male passengers are higher but the people who were survived was mostly female passengers**"
   ]
  },
  {
   "cell_type": "code",
   "execution_count": 9,
   "id": "b2d684bb",
   "metadata": {},
   "outputs": [
    {
     "data": {
      "image/png": "[encoded data removed]",
      "text/plain": [
       "<Figure size 720x576 with 1 Axes>"
      ]
     },
     "metadata": {
      "needs_background": "light"
     },
     "output_type": "display_data"
    }
   ],
   "source": [
    "plt.figure(figsize=(10,8))\n",
    "ax=sns.countplot(x='Pclass',data=data,palette='icefire')\n",
    "for p in ax.patches:\n",
    "   ax.annotate('{:.1f}'.format(p.get_height()), (p.get_x()+0.25, p.get_height()+0.01))\n",
    "plt.show()\n"
   ]
  },
  {
   "cell_type": "markdown",
   "id": "0cfc8071",
   "metadata": {},
   "source": [
    "**Majority of the passengers in ship was in 3rd class and first class has about 216 passengers**"
   ]
  },
  {
   "cell_type": "code",
   "execution_count": 10,
   "id": "b6ac63d1",
   "metadata": {},
   "outputs": [
    {
     "data": {
      "image/png": "[encoded data removed]",
      "text/plain": [
       "<Figure size 720x576 with 1 Axes>"
      ]
     },
     "metadata": {
      "needs_background": "light"
     },
     "output_type": "display_data"
    }
   ],
   "source": [
    "plt.figure(figsize=(10,8))\n",
    "ax=sns.countplot(x='Pclass',hue='Survived',data=data,palette='icefire')\n",
    "for p in ax.patches:\n",
    "   ax.annotate('{:.1f}'.format(p.get_height()), (p.get_x()+0.25, p.get_height()+0.01))\n",
    "plt.show()\n"
   ]
  },
  {
   "cell_type": "markdown",
   "id": "ff2c2acd",
   "metadata": {},
   "source": [
    "**we get an inference that most of the survived passengers were first class passengers**"
   ]
  },
  {
   "cell_type": "code",
   "execution_count": 11,
   "id": "6bdf1eeb",
   "metadata": {},
   "outputs": [
    {
     "data": {
      "image/png": "[encoded data removed]",
      "text/plain": [
       "<Figure size 432x288 with 1 Axes>"
      ]
     },
     "metadata": {
      "needs_background": "light"
     },
     "output_type": "display_data"
    }
   ],
   "source": [
    "ax=sns.countplot(data['Embarked'])\n",
    "for p in ax.patches:\n",
    "   ax.annotate('{:.1f}'.format(p.get_height()), (p.get_x()+0.25, p.get_height()+0.01))"
   ]
  },
  {
   "cell_type": "markdown",
   "id": "a1b6a628",
   "metadata": {},
   "source": [
    "**Majority of the passengers are from Southampton and minority of the passengers from QueensTown**"
   ]
  },
  {
   "cell_type": "code",
   "execution_count": 12,
   "id": "4565cc0f",
   "metadata": {},
   "outputs": [
    {
     "data": {
      "text/plain": [
       "count    714.000000\n",
       "mean      29.699118\n",
       "std       14.526497\n",
       "min        0.420000\n",
       "25%       20.125000\n",
       "50%       28.000000\n",
       "75%       38.000000\n",
       "max       80.000000\n",
       "Name: Age, dtype: float64"
      ]
     },
     "execution_count": 12,
     "metadata": {},
     "output_type": "execute_result"
    }
   ],
   "source": [
    "data['Age'].describe()"
   ]
  },
  {
   "cell_type": "markdown",
   "id": "a261419b",
   "metadata": {},
   "source": [
    "### 4. Fill in all the missing values present in all the columns in the dataset\n"
   ]
  },
  {
   "cell_type": "code",
   "execution_count": 13,
   "id": "d74a9aa3",
   "metadata": {},
   "outputs": [
    {
     "data": {
      "text/plain": [
       "Survived      0\n",
       "Pclass        0\n",
       "Name          0\n",
       "Sex           0\n",
       "Age         177\n",
       "SibSp         0\n",
       "Parch         0\n",
       "Ticket        0\n",
       "Fare          0\n",
       "Cabin       687\n",
       "Embarked      2\n",
       "dtype: int64"
      ]
     },
     "execution_count": 13,
     "metadata": {},
     "output_type": "execute_result"
    }
   ],
   "source": [
    "data.isnull().sum()"
   ]
  },
  {
   "cell_type": "code",
   "execution_count": 14,
   "id": "13b1ee35",
   "metadata": {},
   "outputs": [],
   "source": [
    "#Handle null value in Age column"
   ]
  },
  {
   "cell_type": "code",
   "execution_count": 15,
   "id": "26dedae3",
   "metadata": {},
   "outputs": [
    {
     "data": {
      "image/png": "[encoded data removed]",
      "text/plain": [
       "<Figure size 432x288 with 1 Axes>"
      ]
     },
     "metadata": {
      "needs_background": "light"
     },
     "output_type": "display_data"
    }
   ],
   "source": [
    "plt.hist(data['Age'])\n",
    "plt.show()"
   ]
  },
  {
   "cell_type": "markdown",
   "id": "3f196ffa",
   "metadata": {},
   "source": [
    "**Here our histogram is left skewed so we fill the null values with the median**\n"
   ]
  },
  {
   "cell_type": "code",
   "execution_count": 16,
   "id": "b0ec42f8",
   "metadata": {},
   "outputs": [],
   "source": [
    "data['Age']=data['Age'].fillna(data[\"Age\"].median())"
   ]
  },
  {
   "cell_type": "code",
   "execution_count": 17,
   "id": "cbf235d4",
   "metadata": {},
   "outputs": [
    {
     "data": {
      "text/plain": [
       "Survived      0\n",
       "Pclass        0\n",
       "Name          0\n",
       "Sex           0\n",
       "Age           0\n",
       "SibSp         0\n",
       "Parch         0\n",
       "Ticket        0\n",
       "Fare          0\n",
       "Cabin       687\n",
       "Embarked      2\n",
       "dtype: int64"
      ]
     },
     "execution_count": 17,
     "metadata": {},
     "output_type": "execute_result"
    }
   ],
   "source": [
    "data.isnull().sum()"
   ]
  },
  {
   "cell_type": "markdown",
   "id": "46ea87a0",
   "metadata": {},
   "source": [
    "**Hence the missing value in Age column is filled**"
   ]
  },
  {
   "cell_type": "markdown",
   "id": "07979ec5",
   "metadata": {},
   "source": [
    "**Another Columns were there is missing values are Cabin and Embarked.                                                                           \n",
    "Eventhough both columns are categorical values so we fill them with the mode of their values.**"
   ]
  },
  {
   "cell_type": "code",
   "execution_count": 18,
   "id": "c1afc79c",
   "metadata": {},
   "outputs": [],
   "source": [
    "for i in ['Cabin','Embarked']:\n",
    "    data[i].fillna(data[i].value_counts().index[0],inplace=True)"
   ]
  },
  {
   "cell_type": "code",
   "execution_count": 19,
   "id": "f57724c7",
   "metadata": {},
   "outputs": [
    {
     "data": {
      "text/plain": [
       "Survived    0\n",
       "Pclass      0\n",
       "Name        0\n",
       "Sex         0\n",
       "Age         0\n",
       "SibSp       0\n",
       "Parch       0\n",
       "Ticket      0\n",
       "Fare        0\n",
       "Cabin       0\n",
       "Embarked    0\n",
       "dtype: int64"
      ]
     },
     "execution_count": 19,
     "metadata": {},
     "output_type": "execute_result"
    }
   ],
   "source": [
    "data.isnull().sum()"
   ]
  },
  {
   "cell_type": "markdown",
   "id": "dca66eef",
   "metadata": {},
   "source": [
    "**Hence the missing value in Cabin and Embarked column is filled**"
   ]
  },
  {
   "cell_type": "markdown",
   "id": "ffe1d658",
   "metadata": {},
   "source": [
    "### 5. Check and handle outliers in at least 3 columns in the dataset"
   ]
  },
  {
   "cell_type": "code",
   "execution_count": 20,
   "id": "760238a7",
   "metadata": {},
   "outputs": [
    {
     "data": {
      "image/png": "[encoded data removed]",
      "text/plain": [
       "<Figure size 756x396 with 1 Axes>"
      ]
     },
     "metadata": {
      "needs_background": "light"
     },
     "output_type": "display_data"
    }
   ],
   "source": [
    "plt.rcParams[\"figure.figsize\"] = [10.50, 5.50]\n",
    "plt.rcParams[\"figure.autolayout\"] = True\n",
    "dat = pd.DataFrame({\"Boxplot of Age\": data['Age'], \"Boxplot of Fare\": data['Fare'],\"Boxplot of Parch\":data['Parch'],\"Boxplot of SibSp\":data['SibSp']})\n",
    "dat[['Boxplot of Age', 'Boxplot of Fare','Boxplot of Parch','Boxplot of SibSp']].plot(kind='box', title='boxplot')\n",
    "plt.show()"
   ]
  },
  {
   "cell_type": "markdown",
   "id": "7753ec72",
   "metadata": {},
   "source": [
    "**From the above boxplots we can see that there are outliers in Age,Fare,Parch,SibSp**"
   ]
  },
  {
   "cell_type": "markdown",
   "id": "83e676ec",
   "metadata": {},
   "source": [
    "**So we handle outlier in all the above Columns**"
   ]
  },
  {
   "cell_type": "code",
   "execution_count": 21,
   "id": "448c6f2c",
   "metadata": {},
   "outputs": [],
   "source": [
    "for x in range(1,7):\n",
    "    for i in ['Age','SibSp','Fare','Parch']:\n",
    "        Q1=np.percentile(data[i],25, interpolation='midpoint')\n",
    "        Q2=np.percentile(data[i],50, interpolation='midpoint')\n",
    "        Q3=np.percentile(data[i],75, interpolation='midpoint')\n",
    "        iqr=Q3-Q1\n",
    "        low_lim=Q1-1.5*iqr\n",
    "        up_lim=Q3+1.5*iqr\n",
    "        ind1=data[i]>up_lim\n",
    "        ind2=data[i]<low_lim\n",
    "        q=data.loc[ind1].index\n",
    "        r=data.loc[ind2].index\n",
    "        data.drop(q, inplace=True)\n",
    "        data.drop(r,inplace=True)"
   ]
  },
  {
   "cell_type": "code",
   "execution_count": 35,
   "id": "e361db2a",
   "metadata": {
    "scrolled": true
   },
   "outputs": [
    {
     "data": {
      "image/png": "[encoded data removed]",
      "text/plain": [
       "<Figure size 864x432 with 1 Axes>"
      ]
     },
     "metadata": {
      "needs_background": "light"
     },
     "output_type": "display_data"
    }
   ],
   "source": [
    "plt.rcParams[\"figure.figsize\"] = [12, 6]\n",
    "plt.rcParams[\"figure.autolayout\"] = True\n",
    "dat = pd.DataFrame({\"Boxplot of Age\": data['Age'], \"Boxplot of Fare\": data['Fare'],\"Boxplot of Parch\":data['Parch'],\"Boxplot of SibSp\":data['SibSp']})\n",
    "dat[['Boxplot of Age', 'Boxplot of Fare','Boxplot of Parch','Boxplot of SibSp']].plot(kind='box', title='boxplot')\n",
    "plt.show()"
   ]
  },
  {
   "cell_type": "markdown",
   "id": "aee176b4",
   "metadata": {},
   "source": [
    "**Hence the outliers has been successfully removed  from Age,Fare,Parch,SibSp Columns**"
   ]
  },
  {
   "cell_type": "code",
   "execution_count": 23,
   "id": "163ea45e",
   "metadata": {},
   "outputs": [
    {
     "data": {
      "text/plain": [
       "Survived      int64\n",
       "Pclass        int64\n",
       "Name         object\n",
       "Sex          object\n",
       "Age         float64\n",
       "SibSp         int64\n",
       "Parch         int64\n",
       "Ticket       object\n",
       "Fare        float64\n",
       "Cabin        object\n",
       "Embarked     object\n",
       "dtype: object"
      ]
     },
     "execution_count": 23,
     "metadata": {},
     "output_type": "execute_result"
    }
   ],
   "source": [
    "data.dtypes"
   ]
  },
  {
   "cell_type": "markdown",
   "id": "33b2dff3",
   "metadata": {},
   "source": [
    "### 6. Do min max scaling on the feature set (Take ‘Survived’ as target)"
   ]
  },
  {
   "cell_type": "markdown",
   "id": "478716c4",
   "metadata": {},
   "source": [
    "we take 'Survival' as target"
   ]
  },
  {
   "cell_type": "code",
   "execution_count": 24,
   "id": "f7dfeff1",
   "metadata": {},
   "outputs": [],
   "source": [
    "x=data.iloc[:,[1,4,5,6,8]]\n",
    "#select 'Survival' and store in y\n",
    "y=data.iloc[:,[0]]"
   ]
  },
  {
   "cell_type": "code",
   "execution_count": 25,
   "id": "813c884a",
   "metadata": {},
   "outputs": [],
   "source": [
    "#importing necessary libraries\n",
    "from sklearn.model_selection import train_test_split\n",
    "from sklearn.preprocessing import MinMaxScaler"
   ]
  },
  {
   "cell_type": "code",
   "execution_count": 26,
   "id": "14032005",
   "metadata": {},
   "outputs": [],
   "source": [
    "#spliting data into test and train\n",
    "x_train,x_test,y_train,y_test=train_test_split(x,y,random_state=42)"
   ]
  },
  {
   "cell_type": "code",
   "execution_count": 27,
   "id": "96c86f8c",
   "metadata": {},
   "outputs": [],
   "source": [
    "#assigning the column names to variable 'col'\n",
    "cols = x_train.columns"
   ]
  },
  {
   "cell_type": "code",
   "execution_count": 28,
   "id": "89a424c3",
   "metadata": {},
   "outputs": [],
   "source": [
    "#performing min max scaling on x_test and x_train\n",
    "scaler = MinMaxScaler()\n",
    "x_tr_s = scaler.fit_transform(x_train)\n",
    "x_te_s = scaler.fit_transform(x_test)"
   ]
  },
  {
   "cell_type": "code",
   "execution_count": 39,
   "id": "b092f91f",
   "metadata": {},
   "outputs": [
    {
     "data": {
      "text/plain": [
       "(0, 1)"
      ]
     },
     "execution_count": 39,
     "metadata": {},
     "output_type": "execute_result"
    }
   ],
   "source": [
    "scaler.feature_range"
   ]
  },
  {
   "cell_type": "markdown",
   "id": "794ac2d4",
   "metadata": {},
   "source": [
    "Scaled values will be in range (0,1)"
   ]
  },
  {
   "cell_type": "code",
   "execution_count": 29,
   "id": "a691ce86",
   "metadata": {},
   "outputs": [
    {
     "data": {
      "text/plain": [
       "array([[0.        , 0.40909091, 0.        , 0.        , 0.60377358],\n",
       "       [0.        , 0.63636364, 0.        , 0.        , 0.60377358],\n",
       "       [0.        , 0.90909091, 0.        , 0.        , 0.8365283 ],\n",
       "       [0.        , 0.63636364, 0.        , 0.        , 0.36483019],\n",
       "       [0.        , 0.75      , 0.        , 0.        , 0.8365283 ],\n",
       "       [0.        , 0.63636364, 0.        , 0.        , 0.57871698],\n",
       "       [0.        , 0.09090909, 0.        , 0.        , 0.35849057],\n",
       "       [0.        , 0.68181818, 0.        , 0.        , 0.57237736],\n",
       "       [0.        , 0.27272727, 0.        , 0.        , 0.54098113],\n",
       "       [0.        , 0.72727273, 0.        , 0.        , 0.8365283 ],\n",
       "       [0.        , 0.63636364, 0.        , 0.        , 0.57871698],\n",
       "       [0.        , 0.68181818, 0.        , 0.        , 0.38369811],\n",
       "       [0.        , 0.63636364, 0.        , 0.        , 0.8365283 ],\n",
       "       [0.        , 0.22727273, 0.        , 0.        , 0.8365283 ],\n",
       "       [0.        , 0.63636364, 0.        , 0.        , 0.20135849],\n",
       "       [0.        , 0.63636364, 0.        , 0.        , 0.60377358],\n",
       "       [0.        , 0.31818182, 0.        , 0.        , 0.23275472],\n",
       "       [0.        , 0.63636364, 0.        , 0.        , 0.93086792],\n",
       "       [0.        , 0.09090909, 0.        , 0.        , 0.42143396],\n",
       "       [0.        , 0.54545455, 0.        , 0.        , 0.42143396],\n",
       "       [0.        , 0.63636364, 0.        , 0.        , 0.38369811],\n",
       "       [0.        , 0.04545455, 0.        , 0.        , 0.80513208],\n",
       "       [0.        , 0.63636364, 0.        , 0.        , 0.38369811],\n",
       "       [0.        , 0.63636364, 0.        , 0.        , 0.38369811],\n",
       "       [0.        , 0.40909091, 0.        , 0.        , 0.64784906],\n",
       "       [0.        , 0.27272727, 0.        , 0.        , 0.54098113],\n",
       "       [0.        , 0.22727273, 0.        , 0.        , 0.57871698],\n",
       "       [0.        , 0.27272727, 0.        , 0.        , 0.64784906],\n",
       "       [0.        , 0.95454545, 0.        , 0.        , 0.8365283 ],\n",
       "       [0.        , 0.54545455, 0.        , 0.        , 0.64784906],\n",
       "       [0.        , 0.63636364, 0.        , 0.        , 0.50324528],\n",
       "       [0.        , 0.54545455, 0.        , 0.        , 0.60377358],\n",
       "       [0.        , 0.63636364, 0.        , 0.        , 0.60377358],\n",
       "       [0.        , 0.09090909, 0.        , 0.        , 0.38369811],\n",
       "       [0.        , 0.09090909, 0.        , 0.        , 0.8365283 ],\n",
       "       [0.        , 0.63636364, 0.        , 0.        , 0.42143396],\n",
       "       [0.        , 1.        , 0.        , 0.        , 0.60377358],\n",
       "       [0.        , 0.63636364, 0.        , 0.        , 0.8365283 ],\n",
       "       [0.        , 0.63636364, 0.        , 0.        , 0.60377358],\n",
       "       [0.        , 0.63636364, 0.        , 0.        , 0.8365283 ],\n",
       "       [0.        , 0.40909091, 0.        , 0.        , 0.08181132],\n",
       "       [0.        , 0.31818182, 0.        , 0.        , 0.35849057],\n",
       "       [0.        , 0.63636364, 0.        , 0.        , 0.8365283 ],\n",
       "       [0.        , 0.81818182, 0.        , 0.        , 0.8365283 ],\n",
       "       [0.        , 0.31818182, 0.        , 0.        , 0.64784906],\n",
       "       [0.        , 0.31818182, 0.        , 0.        , 0.38369811],\n",
       "       [0.        , 0.63636364, 0.        , 0.        , 0.8365283 ],\n",
       "       [0.        , 0.63636364, 0.        , 0.        , 0.60377358],\n",
       "       [0.        , 0.54545455, 0.        , 0.        , 0.60377358],\n",
       "       [0.        , 0.77272727, 0.        , 0.        , 0.64784906],\n",
       "       [0.        , 0.63636364, 0.        , 0.        , 0.60377358],\n",
       "       [0.        , 0.31818182, 0.        , 0.        , 0.8365283 ],\n",
       "       [0.        , 0.18181818, 0.        , 0.        , 0.38369811],\n",
       "       [0.        , 0.63636364, 0.        , 0.        , 0.60377358],\n",
       "       [0.        , 0.31818182, 0.        , 0.        , 0.45283019],\n",
       "       [0.        , 0.86363636, 0.        , 0.        , 0.60377358],\n",
       "       [0.        , 0.31818182, 0.        , 0.        , 0.54098113],\n",
       "       [0.        , 0.63636364, 0.        , 0.        , 0.60377358],\n",
       "       [0.        , 0.47727273, 0.        , 0.        , 0.8365283 ],\n",
       "       [0.        , 0.54545455, 0.        , 0.        , 0.54098113],\n",
       "       [0.        , 0.86363636, 0.        , 0.        , 0.60377358],\n",
       "       [0.        , 0.63636364, 0.        , 0.        , 0.60377358],\n",
       "       [0.        , 0.81818182, 0.        , 0.        , 0.64784906],\n",
       "       [0.        , 0.63636364, 0.        , 0.        , 0.38369811],\n",
       "       [0.        , 0.63636364, 0.        , 0.        , 0.38369811],\n",
       "       [0.        , 0.63636364, 0.        , 0.        , 0.57871698],\n",
       "       [0.        , 0.63636364, 0.        , 0.        , 0.08181132],\n",
       "       [0.        , 0.        , 0.        , 0.        , 0.54098113],\n",
       "       [0.        , 0.54545455, 0.        , 0.        , 0.59124528],\n",
       "       [0.        , 0.63636364, 0.        , 0.        , 0.08181132],\n",
       "       [0.        , 0.59090909, 0.        , 0.        , 0.45283019],\n",
       "       [0.        , 0.63636364, 0.        , 0.        , 0.60377358],\n",
       "       [0.        , 0.31818182, 0.        , 0.        , 0.42143396],\n",
       "       [0.        , 0.36363636, 0.        , 0.        , 0.38369811],\n",
       "       [0.        , 0.09090909, 0.        , 0.        , 0.8365283 ],\n",
       "       [0.        , 0.63636364, 0.        , 0.        , 0.38369811],\n",
       "       [0.        , 0.18181818, 0.        , 0.        , 0.8365283 ],\n",
       "       [0.        , 0.81818182, 0.        , 0.        , 0.64784906],\n",
       "       [0.        , 0.22727273, 0.        , 0.        , 0.23275472],\n",
       "       [0.        , 0.63636364, 0.        , 0.        , 0.38369811],\n",
       "       [0.        , 0.63636364, 0.        , 0.        , 0.34596226],\n",
       "       [0.        , 0.63636364, 0.        , 0.        , 0.38369811],\n",
       "       [0.        , 0.18181818, 0.        , 0.        , 0.        ],\n",
       "       [0.        , 0.63636364, 0.        , 0.        , 0.38369811],\n",
       "       [0.        , 0.90909091, 0.        , 0.        , 0.8365283 ],\n",
       "       [0.        , 0.31818182, 0.        , 0.        , 0.8365283 ],\n",
       "       [0.        , 0.31818182, 0.        , 0.        , 0.45916981],\n",
       "       [0.        , 0.63636364, 0.        , 0.        , 0.38369811],\n",
       "       [0.        , 0.63636364, 0.        , 0.        , 0.45283019],\n",
       "       [0.        , 0.63636364, 0.        , 0.        , 0.42143396],\n",
       "       [0.        , 0.63636364, 0.        , 0.        , 0.8365283 ],\n",
       "       [0.        , 0.63636364, 0.        , 0.        , 0.35230189],\n",
       "       [0.        , 0.5       , 0.        , 0.        , 0.60377358],\n",
       "       [0.        , 0.63636364, 0.        , 0.        , 0.96860377],\n",
       "       [0.        , 0.63636364, 0.        , 0.        , 0.60377358],\n",
       "       [0.        , 0.77272727, 0.        , 0.        , 0.42143396],\n",
       "       [0.        , 0.59090909, 0.        , 0.        , 0.60377358],\n",
       "       [0.        , 0.63636364, 0.        , 0.        , 0.54098113],\n",
       "       [0.        , 0.63636364, 0.        , 0.        , 0.8365283 ],\n",
       "       [0.        , 0.5       , 0.        , 0.        , 0.42143396],\n",
       "       [0.        , 0.63636364, 0.        , 0.        , 0.60377358],\n",
       "       [0.        , 0.45454545, 0.        , 0.        , 0.60377358],\n",
       "       [0.        , 0.68181818, 0.        , 0.        , 0.42143396],\n",
       "       [0.        , 0.63636364, 0.        , 0.        , 0.38369811],\n",
       "       [0.        , 0.68181818, 0.        , 0.        , 0.8365283 ],\n",
       "       [0.        , 0.36363636, 0.        , 0.        , 0.38369811],\n",
       "       [0.        , 0.95454545, 0.        , 0.        , 0.60377358],\n",
       "       [0.        , 0.63636364, 0.        , 0.        , 0.60377358],\n",
       "       [0.        , 0.72727273, 0.        , 0.        , 0.8365283 ],\n",
       "       [0.        , 0.63636364, 0.        , 0.        , 0.38369811],\n",
       "       [0.        , 0.95454545, 0.        , 0.        , 0.8365283 ],\n",
       "       [0.        , 0.63636364, 0.        , 0.        , 0.38369811],\n",
       "       [0.        , 0.75      , 0.        , 0.        , 0.38369811],\n",
       "       [0.        , 1.        , 0.        , 0.        , 0.        ],\n",
       "       [0.        , 0.63636364, 0.        , 0.        , 0.38369811],\n",
       "       [0.        , 0.63636364, 0.        , 0.        , 0.50324528],\n",
       "       [0.        , 0.63636364, 0.        , 0.        , 0.8365283 ],\n",
       "       [0.        , 0.72727273, 0.        , 0.        , 0.60377358],\n",
       "       [0.        , 0.68181818, 0.        , 0.        , 0.60377358],\n",
       "       [0.        , 0.36363636, 0.        , 0.        , 0.45283019],\n",
       "       [0.        , 0.63636364, 0.        , 0.        , 0.35849057],\n",
       "       [0.        , 0.81818182, 0.        , 0.        , 0.38369811],\n",
       "       [0.        , 0.45454545, 0.        , 0.        , 0.8365283 ],\n",
       "       [0.        , 0.63636364, 0.        , 0.        , 0.60377358],\n",
       "       [0.        , 0.63636364, 0.        , 0.        , 0.8365283 ],\n",
       "       [0.        , 0.22727273, 0.        , 0.        , 1.        ],\n",
       "       [0.        , 0.36363636, 0.        , 0.        , 0.03773585],\n",
       "       [0.        , 0.36363636, 0.        , 0.        , 0.60377358]])"
      ]
     },
     "execution_count": 29,
     "metadata": {},
     "output_type": "execute_result"
    }
   ],
   "source": [
    "x_tr_s"
   ]
  },
  {
   "cell_type": "markdown",
   "id": "0667b9ca",
   "metadata": {},
   "source": [
    "Here the values are in array so we convert them to a dataframe"
   ]
  },
  {
   "cell_type": "code",
   "execution_count": 31,
   "id": "987e41cc",
   "metadata": {},
   "outputs": [],
   "source": [
    "#converting resulting arrays into dataframe\n",
    "x_tra = pd.DataFrame(x_tr_s)\n",
    "x_tes = pd.DataFrame(x_te_s)"
   ]
  },
  {
   "cell_type": "code",
   "execution_count": 32,
   "id": "ea343a60",
   "metadata": {},
   "outputs": [
    {
     "data": {
      "text/html": [
       "<div>\n",
       "<style scoped>\n",
       "    .dataframe tbody tr th:only-of-type {\n",
       "        vertical-align: middle;\n",
       "    }\n",
       "\n",
       "    .dataframe tbody tr th {\n",
       "        vertical-align: top;\n",
       "    }\n",
       "\n",
       "    .dataframe thead th {\n",
       "        text-align: right;\n",
       "    }\n",
       "</style>\n",
       "<table border=\"1\" class=\"dataframe\">\n",
       "  <thead>\n",
       "    <tr style=\"text-align: right;\">\n",
       "      <th></th>\n",
       "      <th>0</th>\n",
       "      <th>1</th>\n",
       "      <th>2</th>\n",
       "      <th>3</th>\n",
       "      <th>4</th>\n",
       "    </tr>\n",
       "  </thead>\n",
       "  <tbody>\n",
       "    <tr>\n",
       "      <th>0</th>\n",
       "      <td>0.0</td>\n",
       "      <td>0.409091</td>\n",
       "      <td>0.0</td>\n",
       "      <td>0.0</td>\n",
       "      <td>0.603774</td>\n",
       "    </tr>\n",
       "    <tr>\n",
       "      <th>1</th>\n",
       "      <td>0.0</td>\n",
       "      <td>0.636364</td>\n",
       "      <td>0.0</td>\n",
       "      <td>0.0</td>\n",
       "      <td>0.603774</td>\n",
       "    </tr>\n",
       "    <tr>\n",
       "      <th>2</th>\n",
       "      <td>0.0</td>\n",
       "      <td>0.909091</td>\n",
       "      <td>0.0</td>\n",
       "      <td>0.0</td>\n",
       "      <td>0.836528</td>\n",
       "    </tr>\n",
       "    <tr>\n",
       "      <th>3</th>\n",
       "      <td>0.0</td>\n",
       "      <td>0.636364</td>\n",
       "      <td>0.0</td>\n",
       "      <td>0.0</td>\n",
       "      <td>0.364830</td>\n",
       "    </tr>\n",
       "    <tr>\n",
       "      <th>4</th>\n",
       "      <td>0.0</td>\n",
       "      <td>0.750000</td>\n",
       "      <td>0.0</td>\n",
       "      <td>0.0</td>\n",
       "      <td>0.836528</td>\n",
       "    </tr>\n",
       "  </tbody>\n",
       "</table>\n",
       "</div>"
      ],
      "text/plain": [
       "     0         1    2    3         4\n",
       "0  0.0  0.409091  0.0  0.0  0.603774\n",
       "1  0.0  0.636364  0.0  0.0  0.603774\n",
       "2  0.0  0.909091  0.0  0.0  0.836528\n",
       "3  0.0  0.636364  0.0  0.0  0.364830\n",
       "4  0.0  0.750000  0.0  0.0  0.836528"
      ]
     },
     "execution_count": 32,
     "metadata": {},
     "output_type": "execute_result"
    }
   ],
   "source": [
    "x_tra.head()"
   ]
  },
  {
   "cell_type": "markdown",
   "id": "0429c35a",
   "metadata": {},
   "source": [
    "Here the column names are denoted by numbers so we convert them to their corresponding names"
   ]
  },
  {
   "cell_type": "code",
   "execution_count": 33,
   "id": "ba12b3d5",
   "metadata": {},
   "outputs": [],
   "source": [
    "#assigning the column names instead of numbers\n",
    "x_tra.columns = cols\n",
    "x_tes.columns = cols"
   ]
  },
  {
   "cell_type": "code",
   "execution_count": 34,
   "id": "a0cc5725",
   "metadata": {},
   "outputs": [
    {
     "data": {
      "text/html": [
       "<div>\n",
       "<style scoped>\n",
       "    .dataframe tbody tr th:only-of-type {\n",
       "        vertical-align: middle;\n",
       "    }\n",
       "\n",
       "    .dataframe tbody tr th {\n",
       "        vertical-align: top;\n",
       "    }\n",
       "\n",
       "    .dataframe thead th {\n",
       "        text-align: right;\n",
       "    }\n",
       "</style>\n",
       "<table border=\"1\" class=\"dataframe\">\n",
       "  <thead>\n",
       "    <tr style=\"text-align: right;\">\n",
       "      <th></th>\n",
       "      <th>Pclass</th>\n",
       "      <th>Age</th>\n",
       "      <th>SibSp</th>\n",
       "      <th>Parch</th>\n",
       "      <th>Fare</th>\n",
       "    </tr>\n",
       "  </thead>\n",
       "  <tbody>\n",
       "    <tr>\n",
       "      <th>0</th>\n",
       "      <td>0.0</td>\n",
       "      <td>0.409091</td>\n",
       "      <td>0.0</td>\n",
       "      <td>0.0</td>\n",
       "      <td>0.603774</td>\n",
       "    </tr>\n",
       "    <tr>\n",
       "      <th>1</th>\n",
       "      <td>0.0</td>\n",
       "      <td>0.636364</td>\n",
       "      <td>0.0</td>\n",
       "      <td>0.0</td>\n",
       "      <td>0.603774</td>\n",
       "    </tr>\n",
       "    <tr>\n",
       "      <th>2</th>\n",
       "      <td>0.0</td>\n",
       "      <td>0.909091</td>\n",
       "      <td>0.0</td>\n",
       "      <td>0.0</td>\n",
       "      <td>0.836528</td>\n",
       "    </tr>\n",
       "    <tr>\n",
       "      <th>3</th>\n",
       "      <td>0.0</td>\n",
       "      <td>0.636364</td>\n",
       "      <td>0.0</td>\n",
       "      <td>0.0</td>\n",
       "      <td>0.364830</td>\n",
       "    </tr>\n",
       "    <tr>\n",
       "      <th>4</th>\n",
       "      <td>0.0</td>\n",
       "      <td>0.750000</td>\n",
       "      <td>0.0</td>\n",
       "      <td>0.0</td>\n",
       "      <td>0.836528</td>\n",
       "    </tr>\n",
       "    <tr>\n",
       "      <th>...</th>\n",
       "      <td>...</td>\n",
       "      <td>...</td>\n",
       "      <td>...</td>\n",
       "      <td>...</td>\n",
       "      <td>...</td>\n",
       "    </tr>\n",
       "    <tr>\n",
       "      <th>123</th>\n",
       "      <td>0.0</td>\n",
       "      <td>0.636364</td>\n",
       "      <td>0.0</td>\n",
       "      <td>0.0</td>\n",
       "      <td>0.603774</td>\n",
       "    </tr>\n",
       "    <tr>\n",
       "      <th>124</th>\n",
       "      <td>0.0</td>\n",
       "      <td>0.636364</td>\n",
       "      <td>0.0</td>\n",
       "      <td>0.0</td>\n",
       "      <td>0.836528</td>\n",
       "    </tr>\n",
       "    <tr>\n",
       "      <th>125</th>\n",
       "      <td>0.0</td>\n",
       "      <td>0.227273</td>\n",
       "      <td>0.0</td>\n",
       "      <td>0.0</td>\n",
       "      <td>1.000000</td>\n",
       "    </tr>\n",
       "    <tr>\n",
       "      <th>126</th>\n",
       "      <td>0.0</td>\n",
       "      <td>0.363636</td>\n",
       "      <td>0.0</td>\n",
       "      <td>0.0</td>\n",
       "      <td>0.037736</td>\n",
       "    </tr>\n",
       "    <tr>\n",
       "      <th>127</th>\n",
       "      <td>0.0</td>\n",
       "      <td>0.363636</td>\n",
       "      <td>0.0</td>\n",
       "      <td>0.0</td>\n",
       "      <td>0.603774</td>\n",
       "    </tr>\n",
       "  </tbody>\n",
       "</table>\n",
       "<p>128 rows × 5 columns</p>\n",
       "</div>"
      ],
      "text/plain": [
       "     Pclass       Age  SibSp  Parch      Fare\n",
       "0       0.0  0.409091    0.0    0.0  0.603774\n",
       "1       0.0  0.636364    0.0    0.0  0.603774\n",
       "2       0.0  0.909091    0.0    0.0  0.836528\n",
       "3       0.0  0.636364    0.0    0.0  0.364830\n",
       "4       0.0  0.750000    0.0    0.0  0.836528\n",
       "..      ...       ...    ...    ...       ...\n",
       "123     0.0  0.636364    0.0    0.0  0.603774\n",
       "124     0.0  0.636364    0.0    0.0  0.836528\n",
       "125     0.0  0.227273    0.0    0.0  1.000000\n",
       "126     0.0  0.363636    0.0    0.0  0.037736\n",
       "127     0.0  0.363636    0.0    0.0  0.603774\n",
       "\n",
       "[128 rows x 5 columns]"
      ]
     },
     "execution_count": 34,
     "metadata": {},
     "output_type": "execute_result"
    }
   ],
   "source": [
    "x_tra"
   ]
  },
  {
   "cell_type": "markdown",
   "id": "2a54cccd",
   "metadata": {},
   "source": [
    "**Hence Scaling has been applied successfully**"
   ]
  }
 ],
 "metadata": {
  "kernelspec": {
   "display_name": "Python 3 (ipykernel)",
   "language": "python",
   "name": "python3"
  },
  "language_info": {
   "codemirror_mode": {
    "name": "ipython",
    "version": 3
   },
   "file_extension": ".py",
   "mimetype": "text/x-python",
   "name": "python",
   "nbconvert_exporter": "python",
   "pygments_lexer": "ipython3",
   "version": "3.9.12"
  }
 },
 "nbformat": 4,
 "nbformat_minor": 5
}
